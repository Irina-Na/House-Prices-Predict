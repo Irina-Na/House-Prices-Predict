{
 "cells": [
  {
   "cell_type": "markdown",
   "metadata": {
    "papermill": {
     "duration": 0.023162,
     "end_time": "2020-12-15T11:52:38.239794",
     "exception": false,
     "start_time": "2020-12-15T11:52:38.216632",
     "status": "completed"
    },
    "tags": []
   },
   "source": []
  },
  {
   "cell_type": "code",
   "execution_count": 1,
   "metadata": {
    "execution": {
     "iopub.execute_input": "2020-12-15T11:52:38.298614Z",
     "iopub.status.busy": "2020-12-15T11:52:38.297766Z",
     "iopub.status.idle": "2020-12-15T11:52:40.880684Z",
     "shell.execute_reply": "2020-12-15T11:52:40.879775Z"
    },
    "papermill": {
     "duration": 2.618142,
     "end_time": "2020-12-15T11:52:40.880812",
     "exception": false,
     "start_time": "2020-12-15T11:52:38.262670",
     "status": "completed"
    },
    "tags": []
   },
   "outputs": [
    {
     "name": "stdout",
     "output_type": "stream",
     "text": [
      "Populating the interactive namespace from numpy and matplotlib\n"
     ]
    }
   ],
   "source": [
    "import numpy as np\n",
    "import pandas as pd\n",
    "import seaborn as sns\n",
    "import scipy.optimize as sp\n",
    "import matplotlib.pyplot as plt\n",
    "%matplotlib inline\n",
    "from collections import Counter\n",
    "import xgboost as xgb\n",
    "%pylab inline\n",
    "\n",
    "from sklearn.linear_model import LogisticRegression\n",
    "from sklearn.model_selection import GridSearchCV\n",
    "from sklearn.metrics import roc_auc_score\n",
    "from sklearn import linear_model, model_selection, metrics, tree, ensemble \n"
   ]
  },
  {
   "cell_type": "code",
   "execution_count": 2,
   "metadata": {
    "execution": {
     "iopub.execute_input": "2020-12-15T11:52:40.938778Z",
     "iopub.status.busy": "2020-12-15T11:52:40.937999Z",
     "iopub.status.idle": "2020-12-15T11:52:41.032434Z",
     "shell.execute_reply": "2020-12-15T11:52:41.031810Z"
    },
    "papermill": {
     "duration": 0.127533,
     "end_time": "2020-12-15T11:52:41.032578",
     "exception": false,
     "start_time": "2020-12-15T11:52:40.905045",
     "status": "completed"
    },
    "tags": []
   },
   "outputs": [
    {
     "name": "stdout",
     "output_type": "stream",
     "text": [
      "<class 'pandas.core.frame.DataFrame'>\n",
      "Int64Index: 1460 entries, 1 to 1460\n",
      "Data columns (total 80 columns):\n",
      " #   Column         Non-Null Count  Dtype  \n",
      "---  ------         --------------  -----  \n",
      " 0   MSSubClass     1460 non-null   int64  \n",
      " 1   MSZoning       1460 non-null   object \n",
      " 2   LotFrontage    1201 non-null   float64\n",
      " 3   LotArea        1460 non-null   int64  \n",
      " 4   Street         1460 non-null   object \n",
      " 5   Alley          91 non-null     object \n",
      " 6   LotShape       1460 non-null   object \n",
      " 7   LandContour    1460 non-null   object \n",
      " 8   Utilities      1460 non-null   object \n",
      " 9   LotConfig      1460 non-null   object \n",
      " 10  LandSlope      1460 non-null   object \n",
      " 11  Neighborhood   1460 non-null   object \n",
      " 12  Condition1     1460 non-null   object \n",
      " 13  Condition2     1460 non-null   object \n",
      " 14  BldgType       1460 non-null   object \n",
      " 15  HouseStyle     1460 non-null   object \n",
      " 16  OverallQual    1460 non-null   int64  \n",
      " 17  OverallCond    1460 non-null   int64  \n",
      " 18  YearBuilt      1460 non-null   int64  \n",
      " 19  YearRemodAdd   1460 non-null   int64  \n",
      " 20  RoofStyle      1460 non-null   object \n",
      " 21  RoofMatl       1460 non-null   object \n",
      " 22  Exterior1st    1460 non-null   object \n",
      " 23  Exterior2nd    1460 non-null   object \n",
      " 24  MasVnrType     1452 non-null   object \n",
      " 25  MasVnrArea     1452 non-null   float64\n",
      " 26  ExterQual      1460 non-null   object \n",
      " 27  ExterCond      1460 non-null   object \n",
      " 28  Foundation     1460 non-null   object \n",
      " 29  BsmtQual       1423 non-null   object \n",
      " 30  BsmtCond       1423 non-null   object \n",
      " 31  BsmtExposure   1422 non-null   object \n",
      " 32  BsmtFinType1   1423 non-null   object \n",
      " 33  BsmtFinSF1     1460 non-null   int64  \n",
      " 34  BsmtFinType2   1422 non-null   object \n",
      " 35  BsmtFinSF2     1460 non-null   int64  \n",
      " 36  BsmtUnfSF      1460 non-null   int64  \n",
      " 37  TotalBsmtSF    1460 non-null   int64  \n",
      " 38  Heating        1460 non-null   object \n",
      " 39  HeatingQC      1460 non-null   object \n",
      " 40  CentralAir     1460 non-null   object \n",
      " 41  Electrical     1459 non-null   object \n",
      " 42  1stFlrSF       1460 non-null   int64  \n",
      " 43  2ndFlrSF       1460 non-null   int64  \n",
      " 44  LowQualFinSF   1460 non-null   int64  \n",
      " 45  GrLivArea      1460 non-null   int64  \n",
      " 46  BsmtFullBath   1460 non-null   int64  \n",
      " 47  BsmtHalfBath   1460 non-null   int64  \n",
      " 48  FullBath       1460 non-null   int64  \n",
      " 49  HalfBath       1460 non-null   int64  \n",
      " 50  BedroomAbvGr   1460 non-null   int64  \n",
      " 51  KitchenAbvGr   1460 non-null   int64  \n",
      " 52  KitchenQual    1460 non-null   object \n",
      " 53  TotRmsAbvGrd   1460 non-null   int64  \n",
      " 54  Functional     1460 non-null   object \n",
      " 55  Fireplaces     1460 non-null   int64  \n",
      " 56  FireplaceQu    770 non-null    object \n",
      " 57  GarageType     1379 non-null   object \n",
      " 58  GarageYrBlt    1379 non-null   float64\n",
      " 59  GarageFinish   1379 non-null   object \n",
      " 60  GarageCars     1460 non-null   int64  \n",
      " 61  GarageArea     1460 non-null   int64  \n",
      " 62  GarageQual     1379 non-null   object \n",
      " 63  GarageCond     1379 non-null   object \n",
      " 64  PavedDrive     1460 non-null   object \n",
      " 65  WoodDeckSF     1460 non-null   int64  \n",
      " 66  OpenPorchSF    1460 non-null   int64  \n",
      " 67  EnclosedPorch  1460 non-null   int64  \n",
      " 68  3SsnPorch      1460 non-null   int64  \n",
      " 69  ScreenPorch    1460 non-null   int64  \n",
      " 70  PoolArea       1460 non-null   int64  \n",
      " 71  PoolQC         7 non-null      object \n",
      " 72  Fence          281 non-null    object \n",
      " 73  MiscFeature    54 non-null     object \n",
      " 74  MiscVal        1460 non-null   int64  \n",
      " 75  MoSold         1460 non-null   int64  \n",
      " 76  YrSold         1460 non-null   int64  \n",
      " 77  SaleType       1460 non-null   object \n",
      " 78  SaleCondition  1460 non-null   object \n",
      " 79  SalePrice      1460 non-null   int64  \n",
      "dtypes: float64(3), int64(34), object(43)\n",
      "memory usage: 923.9+ KB\n"
     ]
    }
   ],
   "source": [
    "data = pd.read_csv('../input/house-prices-advanced-regression-techniques/train.csv', index_col='Id')\n",
    "data.SalePrice.value_counts()\n",
    "data.info()\n",
    "#['PoolArea'].unique()"
   ]
  },
  {
   "cell_type": "code",
   "execution_count": 3,
   "metadata": {
    "execution": {
     "iopub.execute_input": "2020-12-15T11:52:41.111542Z",
     "iopub.status.busy": "2020-12-15T11:52:41.110779Z",
     "iopub.status.idle": "2020-12-15T11:52:41.180526Z",
     "shell.execute_reply": "2020-12-15T11:52:41.181077Z"
    },
    "papermill": {
     "duration": 0.124925,
     "end_time": "2020-12-15T11:52:41.181230",
     "exception": false,
     "start_time": "2020-12-15T11:52:41.056305",
     "status": "completed"
    },
    "tags": []
   },
   "outputs": [
    {
     "name": "stdout",
     "output_type": "stream",
     "text": [
      "<class 'pandas.core.frame.DataFrame'>\n",
      "Int64Index: 1459 entries, 1461 to 2919\n",
      "Data columns (total 79 columns):\n",
      " #   Column         Non-Null Count  Dtype  \n",
      "---  ------         --------------  -----  \n",
      " 0   MSSubClass     1459 non-null   int64  \n",
      " 1   MSZoning       1455 non-null   object \n",
      " 2   LotFrontage    1232 non-null   float64\n",
      " 3   LotArea        1459 non-null   int64  \n",
      " 4   Street         1459 non-null   object \n",
      " 5   Alley          107 non-null    object \n",
      " 6   LotShape       1459 non-null   object \n",
      " 7   LandContour    1459 non-null   object \n",
      " 8   Utilities      1457 non-null   object \n",
      " 9   LotConfig      1459 non-null   object \n",
      " 10  LandSlope      1459 non-null   object \n",
      " 11  Neighborhood   1459 non-null   object \n",
      " 12  Condition1     1459 non-null   object \n",
      " 13  Condition2     1459 non-null   object \n",
      " 14  BldgType       1459 non-null   object \n",
      " 15  HouseStyle     1459 non-null   object \n",
      " 16  OverallQual    1459 non-null   int64  \n",
      " 17  OverallCond    1459 non-null   int64  \n",
      " 18  YearBuilt      1459 non-null   int64  \n",
      " 19  YearRemodAdd   1459 non-null   int64  \n",
      " 20  RoofStyle      1459 non-null   object \n",
      " 21  RoofMatl       1459 non-null   object \n",
      " 22  Exterior1st    1458 non-null   object \n",
      " 23  Exterior2nd    1458 non-null   object \n",
      " 24  MasVnrType     1443 non-null   object \n",
      " 25  MasVnrArea     1444 non-null   float64\n",
      " 26  ExterQual      1459 non-null   object \n",
      " 27  ExterCond      1459 non-null   object \n",
      " 28  Foundation     1459 non-null   object \n",
      " 29  BsmtQual       1415 non-null   object \n",
      " 30  BsmtCond       1414 non-null   object \n",
      " 31  BsmtExposure   1415 non-null   object \n",
      " 32  BsmtFinType1   1417 non-null   object \n",
      " 33  BsmtFinSF1     1458 non-null   float64\n",
      " 34  BsmtFinType2   1417 non-null   object \n",
      " 35  BsmtFinSF2     1458 non-null   float64\n",
      " 36  BsmtUnfSF      1458 non-null   float64\n",
      " 37  TotalBsmtSF    1458 non-null   float64\n",
      " 38  Heating        1459 non-null   object \n",
      " 39  HeatingQC      1459 non-null   object \n",
      " 40  CentralAir     1459 non-null   object \n",
      " 41  Electrical     1459 non-null   object \n",
      " 42  1stFlrSF       1459 non-null   int64  \n",
      " 43  2ndFlrSF       1459 non-null   int64  \n",
      " 44  LowQualFinSF   1459 non-null   int64  \n",
      " 45  GrLivArea      1459 non-null   int64  \n",
      " 46  BsmtFullBath   1457 non-null   float64\n",
      " 47  BsmtHalfBath   1457 non-null   float64\n",
      " 48  FullBath       1459 non-null   int64  \n",
      " 49  HalfBath       1459 non-null   int64  \n",
      " 50  BedroomAbvGr   1459 non-null   int64  \n",
      " 51  KitchenAbvGr   1459 non-null   int64  \n",
      " 52  KitchenQual    1458 non-null   object \n",
      " 53  TotRmsAbvGrd   1459 non-null   int64  \n",
      " 54  Functional     1457 non-null   object \n",
      " 55  Fireplaces     1459 non-null   int64  \n",
      " 56  FireplaceQu    729 non-null    object \n",
      " 57  GarageType     1383 non-null   object \n",
      " 58  GarageYrBlt    1381 non-null   float64\n",
      " 59  GarageFinish   1381 non-null   object \n",
      " 60  GarageCars     1458 non-null   float64\n",
      " 61  GarageArea     1458 non-null   float64\n",
      " 62  GarageQual     1381 non-null   object \n",
      " 63  GarageCond     1381 non-null   object \n",
      " 64  PavedDrive     1459 non-null   object \n",
      " 65  WoodDeckSF     1459 non-null   int64  \n",
      " 66  OpenPorchSF    1459 non-null   int64  \n",
      " 67  EnclosedPorch  1459 non-null   int64  \n",
      " 68  3SsnPorch      1459 non-null   int64  \n",
      " 69  ScreenPorch    1459 non-null   int64  \n",
      " 70  PoolArea       1459 non-null   int64  \n",
      " 71  PoolQC         3 non-null      object \n",
      " 72  Fence          290 non-null    object \n",
      " 73  MiscFeature    51 non-null     object \n",
      " 74  MiscVal        1459 non-null   int64  \n",
      " 75  MoSold         1459 non-null   int64  \n",
      " 76  YrSold         1459 non-null   int64  \n",
      " 77  SaleType       1458 non-null   object \n",
      " 78  SaleCondition  1459 non-null   object \n",
      "dtypes: float64(11), int64(25), object(43)\n",
      "memory usage: 911.9+ KB\n"
     ]
    }
   ],
   "source": [
    "dataT = pd.read_csv('../input/house-prices-advanced-regression-techniques/test.csv', index_col='Id')\n",
    "dataT.info()"
   ]
  },
  {
   "cell_type": "markdown",
   "metadata": {
    "papermill": {
     "duration": 0.024756,
     "end_time": "2020-12-15T11:52:41.230755",
     "exception": false,
     "start_time": "2020-12-15T11:52:41.205999",
     "status": "completed"
    },
    "tags": []
   },
   "source": [
    "# Let's select columns with qualitative and quantitative features"
   ]
  },
  {
   "cell_type": "code",
   "execution_count": 4,
   "metadata": {
    "execution": {
     "iopub.execute_input": "2020-12-15T11:52:41.287329Z",
     "iopub.status.busy": "2020-12-15T11:52:41.286133Z",
     "iopub.status.idle": "2020-12-15T11:52:41.303972Z",
     "shell.execute_reply": "2020-12-15T11:52:41.303224Z"
    },
    "papermill": {
     "duration": 0.047088,
     "end_time": "2020-12-15T11:52:41.304100",
     "exception": false,
     "start_time": "2020-12-15T11:52:41.257012",
     "status": "completed"
    },
    "tags": []
   },
   "outputs": [
    {
     "name": "stdout",
     "output_type": "stream",
     "text": [
      "[Int64Index([   1,    2,    3,    4,    5,    6,    7,    8,    9,   10,\n",
      "            ...\n",
      "            1451, 1452, 1453, 1454, 1455, 1456, 1457, 1458, 1459, 1460],\n",
      "           dtype='int64', name='Id', length=1460), Index(['MSZoning', 'Street', 'Alley', 'LotShape', 'LandContour', 'Utilities',\n",
      "       'LotConfig', 'LandSlope', 'Neighborhood', 'Condition1', 'Condition2',\n",
      "       'BldgType', 'HouseStyle', 'RoofStyle', 'RoofMatl', 'Exterior1st',\n",
      "       'Exterior2nd', 'MasVnrType', 'ExterQual', 'ExterCond', 'Foundation',\n",
      "       'BsmtQual', 'BsmtCond', 'BsmtExposure', 'BsmtFinType1', 'BsmtFinType2',\n",
      "       'Heating', 'HeatingQC', 'CentralAir', 'Electrical', 'KitchenQual',\n",
      "       'Functional', 'FireplaceQu', 'GarageType', 'GarageFinish', 'GarageQual',\n",
      "       'GarageCond', 'PavedDrive', 'PoolQC', 'Fence', 'MiscFeature',\n",
      "       'SaleType', 'SaleCondition'],\n",
      "      dtype='object')]\n",
      "[Int64Index([   1,    2,    3,    4,    5,    6,    7,    8,    9,   10,\n",
      "            ...\n",
      "            1451, 1452, 1453, 1454, 1455, 1456, 1457, 1458, 1459, 1460],\n",
      "           dtype='int64', name='Id', length=1460), Index(['MSSubClass', 'LotFrontage', 'LotArea', 'OverallQual', 'OverallCond',\n",
      "       'YearBuilt', 'YearRemodAdd', 'MasVnrArea', 'BsmtFinSF1', 'BsmtFinSF2',\n",
      "       'BsmtUnfSF', 'TotalBsmtSF', '1stFlrSF', '2ndFlrSF', 'LowQualFinSF',\n",
      "       'GrLivArea', 'BsmtFullBath', 'BsmtHalfBath', 'FullBath', 'HalfBath',\n",
      "       'BedroomAbvGr', 'KitchenAbvGr', 'TotRmsAbvGrd', 'Fireplaces',\n",
      "       'GarageYrBlt', 'GarageCars', 'GarageArea', 'WoodDeckSF', 'OpenPorchSF',\n",
      "       'EnclosedPorch', '3SsnPorch', 'ScreenPorch', 'PoolArea', 'MiscVal',\n",
      "       'MoSold', 'YrSold', 'SalePrice'],\n",
      "      dtype='object')]\n"
     ]
    }
   ],
   "source": [
    "num_data=data.select_dtypes(exclude=['object']).axes\n",
    "\n",
    "cat_data=data.select_dtypes(include=['object']).axes\n",
    "\n",
    "print (cat_data)\n",
    "print (num_data)"
   ]
  },
  {
   "cell_type": "code",
   "execution_count": 5,
   "metadata": {
    "execution": {
     "iopub.execute_input": "2020-12-15T11:52:41.368059Z",
     "iopub.status.busy": "2020-12-15T11:52:41.366964Z",
     "iopub.status.idle": "2020-12-15T11:52:41.371237Z",
     "shell.execute_reply": "2020-12-15T11:52:41.370554Z"
    },
    "papermill": {
     "duration": 0.040958,
     "end_time": "2020-12-15T11:52:41.371357",
     "exception": false,
     "start_time": "2020-12-15T11:52:41.330399",
     "status": "completed"
    },
    "tags": []
   },
   "outputs": [],
   "source": [
    "num_feat=['MSSubClass', 'LotFrontage', 'LotArea', 'OverallQual', 'OverallCond',\n",
    "        'YearBuilt', 'YearRemodAdd', 'MasVnrArea', 'BsmtFinSF1', 'BsmtFinSF2',\n",
    "        'BsmtUnfSF', 'TotalBsmtSF', '1stFlrSF', '2ndFlrSF', 'LowQualFinSF',\n",
    "        'GrLivArea', 'BsmtFullBath', 'BsmtHalfBath', 'FullBath', 'HalfBath',\n",
    "        'BedroomAbvGr', 'KitchenAbvGr', 'TotRmsAbvGrd', 'Fireplaces',\n",
    "        'GarageYrBlt', 'GarageCars', 'GarageArea', 'WoodDeckSF', 'OpenPorchSF',\n",
    "        'EnclosedPorch', '3SsnPorch', 'ScreenPorch', 'PoolArea', 'MiscVal',\n",
    "        'MoSold', 'YrSold']\n",
    "cat_feat=['MSZoning', 'Street', 'Alley', 'LotShape', 'LandContour', 'Utilities',\n",
    "        'LotConfig', 'LandSlope', 'Neighborhood', 'Condition1', 'Condition2',\n",
    "        'BldgType', 'HouseStyle', 'RoofStyle', 'RoofMatl', 'Exterior1st',\n",
    "        'Exterior2nd', 'MasVnrType', 'ExterQual', 'ExterCond', 'Foundation',\n",
    "        'BsmtQual', 'BsmtCond', 'BsmtExposure', 'BsmtFinType1', 'BsmtFinType2',\n",
    "        'Heating', 'HeatingQC', 'CentralAir', 'Electrical', 'KitchenQual',\n",
    "        'Functional', 'FireplaceQu', 'GarageType', 'GarageFinish', 'GarageQual',\n",
    "        'GarageCond', 'PavedDrive', 'PoolQC', 'Fence', 'MiscFeature',\n",
    "        'SaleType', 'SaleCondition']"
   ]
  },
  {
   "cell_type": "markdown",
   "metadata": {
    "papermill": {
     "duration": 0.024902,
     "end_time": "2020-12-15T11:52:41.421198",
     "exception": false,
     "start_time": "2020-12-15T11:52:41.396296",
     "status": "completed"
    },
    "tags": []
   },
   "source": [
    "# Detect and delete outliers"
   ]
  },
  {
   "cell_type": "code",
   "execution_count": 6,
   "metadata": {
    "execution": {
     "iopub.execute_input": "2020-12-15T11:52:41.487704Z",
     "iopub.status.busy": "2020-12-15T11:52:41.486974Z",
     "iopub.status.idle": "2020-12-15T11:52:41.545010Z",
     "shell.execute_reply": "2020-12-15T11:52:41.544189Z"
    },
    "papermill": {
     "duration": 0.097002,
     "end_time": "2020-12-15T11:52:41.545143",
     "exception": false,
     "start_time": "2020-12-15T11:52:41.448141",
     "status": "completed"
    },
    "tags": []
   },
   "outputs": [],
   "source": [
    "\n",
    "\n",
    "def detect_outliers(df,n,features):\n",
    "    \"\"\"\n",
    "    Takes a dataframe df of features and returns a list of the indices\n",
    "    corresponding to the observations containing more than n outliers according\n",
    "    to the Tukey method.\n",
    "    \"\"\"\n",
    "    outlier_indices = []\n",
    "    \n",
    "    # iterate over features(columns)\n",
    "    for col in features:\n",
    "        # 1st quartile (25%)\n",
    "        Q1 = np.percentile(df[col], 25)\n",
    "        # 3rd quartile (75%)\n",
    "        Q3 = np.percentile(df[col],75)\n",
    "        # Interquartile range (IQR)\n",
    "        IQR = Q3 - Q1\n",
    "        \n",
    "        # outlier step\n",
    "        outlier_step = 1.5 * IQR\n",
    "        \n",
    "        # Determine a list of indices of outliers for feature col\n",
    "        outlier_list_col = df[(df[col] < Q1 - outlier_step) | (df[col] > Q3 + outlier_step )].index\n",
    "        \n",
    "        # append the found outlier indices for col to the list of outlier indices \n",
    "        outlier_indices.extend(outlier_list_col)\n",
    "        \n",
    "    # select observations containing more than 2 outliers\n",
    "    outlier_indices = Counter(outlier_indices)        \n",
    "    multiple_outliers = list( k for k, v in outlier_indices.items() if v > n )\n",
    "    \n",
    "    return multiple_outliers   \n",
    "\n",
    "# detect outliers from Age, SibSp , Parch and Fare\n",
    "Outliers_to_drop = detect_outliers(data,2,num_feat)"
   ]
  },
  {
   "cell_type": "code",
   "execution_count": 7,
   "metadata": {
    "execution": {
     "iopub.execute_input": "2020-12-15T11:52:41.632144Z",
     "iopub.status.busy": "2020-12-15T11:52:41.631451Z",
     "iopub.status.idle": "2020-12-15T11:52:41.651883Z",
     "shell.execute_reply": "2020-12-15T11:52:41.651241Z"
    },
    "papermill": {
     "duration": 0.080638,
     "end_time": "2020-12-15T11:52:41.651997",
     "exception": false,
     "start_time": "2020-12-15T11:52:41.571359",
     "status": "completed"
    },
    "tags": []
   },
   "outputs": [
    {
     "data": {
      "text/html": [
       "<div>\n",
       "<style scoped>\n",
       "    .dataframe tbody tr th:only-of-type {\n",
       "        vertical-align: middle;\n",
       "    }\n",
       "\n",
       "    .dataframe tbody tr th {\n",
       "        vertical-align: top;\n",
       "    }\n",
       "\n",
       "    .dataframe thead th {\n",
       "        text-align: right;\n",
       "    }\n",
       "</style>\n",
       "<table border=\"1\" class=\"dataframe\">\n",
       "  <thead>\n",
       "    <tr style=\"text-align: right;\">\n",
       "      <th></th>\n",
       "      <th>MSSubClass</th>\n",
       "      <th>MSZoning</th>\n",
       "      <th>LotFrontage</th>\n",
       "      <th>LotArea</th>\n",
       "      <th>Street</th>\n",
       "      <th>Alley</th>\n",
       "      <th>LotShape</th>\n",
       "      <th>LandContour</th>\n",
       "      <th>Utilities</th>\n",
       "      <th>LotConfig</th>\n",
       "      <th>...</th>\n",
       "      <th>PoolArea</th>\n",
       "      <th>PoolQC</th>\n",
       "      <th>Fence</th>\n",
       "      <th>MiscFeature</th>\n",
       "      <th>MiscVal</th>\n",
       "      <th>MoSold</th>\n",
       "      <th>YrSold</th>\n",
       "      <th>SaleType</th>\n",
       "      <th>SaleCondition</th>\n",
       "      <th>SalePrice</th>\n",
       "    </tr>\n",
       "    <tr>\n",
       "      <th>Id</th>\n",
       "      <th></th>\n",
       "      <th></th>\n",
       "      <th></th>\n",
       "      <th></th>\n",
       "      <th></th>\n",
       "      <th></th>\n",
       "      <th></th>\n",
       "      <th></th>\n",
       "      <th></th>\n",
       "      <th></th>\n",
       "      <th></th>\n",
       "      <th></th>\n",
       "      <th></th>\n",
       "      <th></th>\n",
       "      <th></th>\n",
       "      <th></th>\n",
       "      <th></th>\n",
       "      <th></th>\n",
       "      <th></th>\n",
       "      <th></th>\n",
       "      <th></th>\n",
       "    </tr>\n",
       "  </thead>\n",
       "  <tbody>\n",
       "    <tr>\n",
       "      <th>49</th>\n",
       "      <td>190</td>\n",
       "      <td>RM</td>\n",
       "      <td>33.0</td>\n",
       "      <td>4456</td>\n",
       "      <td>Pave</td>\n",
       "      <td>NaN</td>\n",
       "      <td>Reg</td>\n",
       "      <td>Lvl</td>\n",
       "      <td>AllPub</td>\n",
       "      <td>Inside</td>\n",
       "      <td>...</td>\n",
       "      <td>0</td>\n",
       "      <td>NaN</td>\n",
       "      <td>NaN</td>\n",
       "      <td>NaN</td>\n",
       "      <td>0</td>\n",
       "      <td>6</td>\n",
       "      <td>2009</td>\n",
       "      <td>New</td>\n",
       "      <td>Partial</td>\n",
       "      <td>113000</td>\n",
       "    </tr>\n",
       "    <tr>\n",
       "      <th>94</th>\n",
       "      <td>190</td>\n",
       "      <td>C (all)</td>\n",
       "      <td>60.0</td>\n",
       "      <td>7200</td>\n",
       "      <td>Pave</td>\n",
       "      <td>NaN</td>\n",
       "      <td>Reg</td>\n",
       "      <td>Lvl</td>\n",
       "      <td>AllPub</td>\n",
       "      <td>Corner</td>\n",
       "      <td>...</td>\n",
       "      <td>0</td>\n",
       "      <td>NaN</td>\n",
       "      <td>NaN</td>\n",
       "      <td>NaN</td>\n",
       "      <td>0</td>\n",
       "      <td>11</td>\n",
       "      <td>2007</td>\n",
       "      <td>WD</td>\n",
       "      <td>Normal</td>\n",
       "      <td>133900</td>\n",
       "    </tr>\n",
       "    <tr>\n",
       "      <th>126</th>\n",
       "      <td>190</td>\n",
       "      <td>RM</td>\n",
       "      <td>60.0</td>\n",
       "      <td>6780</td>\n",
       "      <td>Pave</td>\n",
       "      <td>NaN</td>\n",
       "      <td>Reg</td>\n",
       "      <td>Lvl</td>\n",
       "      <td>AllPub</td>\n",
       "      <td>Inside</td>\n",
       "      <td>...</td>\n",
       "      <td>0</td>\n",
       "      <td>NaN</td>\n",
       "      <td>NaN</td>\n",
       "      <td>NaN</td>\n",
       "      <td>0</td>\n",
       "      <td>6</td>\n",
       "      <td>2006</td>\n",
       "      <td>WD</td>\n",
       "      <td>Normal</td>\n",
       "      <td>84500</td>\n",
       "    </tr>\n",
       "    <tr>\n",
       "      <th>166</th>\n",
       "      <td>190</td>\n",
       "      <td>RL</td>\n",
       "      <td>62.0</td>\n",
       "      <td>10106</td>\n",
       "      <td>Pave</td>\n",
       "      <td>NaN</td>\n",
       "      <td>Reg</td>\n",
       "      <td>Lvl</td>\n",
       "      <td>AllPub</td>\n",
       "      <td>Inside</td>\n",
       "      <td>...</td>\n",
       "      <td>0</td>\n",
       "      <td>NaN</td>\n",
       "      <td>NaN</td>\n",
       "      <td>NaN</td>\n",
       "      <td>0</td>\n",
       "      <td>9</td>\n",
       "      <td>2008</td>\n",
       "      <td>WD</td>\n",
       "      <td>Normal</td>\n",
       "      <td>127500</td>\n",
       "    </tr>\n",
       "    <tr>\n",
       "      <th>173</th>\n",
       "      <td>160</td>\n",
       "      <td>RL</td>\n",
       "      <td>44.0</td>\n",
       "      <td>5306</td>\n",
       "      <td>Pave</td>\n",
       "      <td>NaN</td>\n",
       "      <td>IR1</td>\n",
       "      <td>Lvl</td>\n",
       "      <td>AllPub</td>\n",
       "      <td>Inside</td>\n",
       "      <td>...</td>\n",
       "      <td>0</td>\n",
       "      <td>NaN</td>\n",
       "      <td>NaN</td>\n",
       "      <td>NaN</td>\n",
       "      <td>0</td>\n",
       "      <td>6</td>\n",
       "      <td>2006</td>\n",
       "      <td>WD</td>\n",
       "      <td>Normal</td>\n",
       "      <td>239000</td>\n",
       "    </tr>\n",
       "    <tr>\n",
       "      <th>...</th>\n",
       "      <td>...</td>\n",
       "      <td>...</td>\n",
       "      <td>...</td>\n",
       "      <td>...</td>\n",
       "      <td>...</td>\n",
       "      <td>...</td>\n",
       "      <td>...</td>\n",
       "      <td>...</td>\n",
       "      <td>...</td>\n",
       "      <td>...</td>\n",
       "      <td>...</td>\n",
       "      <td>...</td>\n",
       "      <td>...</td>\n",
       "      <td>...</td>\n",
       "      <td>...</td>\n",
       "      <td>...</td>\n",
       "      <td>...</td>\n",
       "      <td>...</td>\n",
       "      <td>...</td>\n",
       "      <td>...</td>\n",
       "      <td>...</td>\n",
       "    </tr>\n",
       "    <tr>\n",
       "      <th>1351</th>\n",
       "      <td>90</td>\n",
       "      <td>RL</td>\n",
       "      <td>91.0</td>\n",
       "      <td>11643</td>\n",
       "      <td>Pave</td>\n",
       "      <td>NaN</td>\n",
       "      <td>Reg</td>\n",
       "      <td>Lvl</td>\n",
       "      <td>AllPub</td>\n",
       "      <td>Inside</td>\n",
       "      <td>...</td>\n",
       "      <td>0</td>\n",
       "      <td>NaN</td>\n",
       "      <td>NaN</td>\n",
       "      <td>NaN</td>\n",
       "      <td>0</td>\n",
       "      <td>8</td>\n",
       "      <td>2009</td>\n",
       "      <td>WD</td>\n",
       "      <td>Normal</td>\n",
       "      <td>200000</td>\n",
       "    </tr>\n",
       "    <tr>\n",
       "      <th>635</th>\n",
       "      <td>90</td>\n",
       "      <td>RL</td>\n",
       "      <td>64.0</td>\n",
       "      <td>6979</td>\n",
       "      <td>Pave</td>\n",
       "      <td>NaN</td>\n",
       "      <td>Reg</td>\n",
       "      <td>Lvl</td>\n",
       "      <td>AllPub</td>\n",
       "      <td>Inside</td>\n",
       "      <td>...</td>\n",
       "      <td>0</td>\n",
       "      <td>NaN</td>\n",
       "      <td>GdPrv</td>\n",
       "      <td>Shed</td>\n",
       "      <td>600</td>\n",
       "      <td>6</td>\n",
       "      <td>2010</td>\n",
       "      <td>WD</td>\n",
       "      <td>Normal</td>\n",
       "      <td>144000</td>\n",
       "    </tr>\n",
       "    <tr>\n",
       "      <th>911</th>\n",
       "      <td>90</td>\n",
       "      <td>RL</td>\n",
       "      <td>80.0</td>\n",
       "      <td>11600</td>\n",
       "      <td>Pave</td>\n",
       "      <td>NaN</td>\n",
       "      <td>Reg</td>\n",
       "      <td>Lvl</td>\n",
       "      <td>AllPub</td>\n",
       "      <td>Corner</td>\n",
       "      <td>...</td>\n",
       "      <td>0</td>\n",
       "      <td>NaN</td>\n",
       "      <td>NaN</td>\n",
       "      <td>NaN</td>\n",
       "      <td>0</td>\n",
       "      <td>1</td>\n",
       "      <td>2010</td>\n",
       "      <td>WD</td>\n",
       "      <td>Normal</td>\n",
       "      <td>154300</td>\n",
       "    </tr>\n",
       "    <tr>\n",
       "      <th>1293</th>\n",
       "      <td>70</td>\n",
       "      <td>RM</td>\n",
       "      <td>60.0</td>\n",
       "      <td>6600</td>\n",
       "      <td>Pave</td>\n",
       "      <td>NaN</td>\n",
       "      <td>Reg</td>\n",
       "      <td>Lvl</td>\n",
       "      <td>AllPub</td>\n",
       "      <td>Corner</td>\n",
       "      <td>...</td>\n",
       "      <td>0</td>\n",
       "      <td>NaN</td>\n",
       "      <td>NaN</td>\n",
       "      <td>NaN</td>\n",
       "      <td>0</td>\n",
       "      <td>12</td>\n",
       "      <td>2009</td>\n",
       "      <td>WD</td>\n",
       "      <td>Normal</td>\n",
       "      <td>107500</td>\n",
       "    </tr>\n",
       "    <tr>\n",
       "      <th>913</th>\n",
       "      <td>30</td>\n",
       "      <td>RM</td>\n",
       "      <td>51.0</td>\n",
       "      <td>6120</td>\n",
       "      <td>Pave</td>\n",
       "      <td>NaN</td>\n",
       "      <td>Reg</td>\n",
       "      <td>Lvl</td>\n",
       "      <td>AllPub</td>\n",
       "      <td>Inside</td>\n",
       "      <td>...</td>\n",
       "      <td>0</td>\n",
       "      <td>NaN</td>\n",
       "      <td>MnPrv</td>\n",
       "      <td>Shed</td>\n",
       "      <td>620</td>\n",
       "      <td>7</td>\n",
       "      <td>2006</td>\n",
       "      <td>WD</td>\n",
       "      <td>Abnorml</td>\n",
       "      <td>88000</td>\n",
       "    </tr>\n",
       "  </tbody>\n",
       "</table>\n",
       "<p>122 rows × 80 columns</p>\n",
       "</div>"
      ],
      "text/plain": [
       "      MSSubClass MSZoning  LotFrontage  LotArea Street Alley LotShape  \\\n",
       "Id                                                                      \n",
       "49           190       RM         33.0     4456   Pave   NaN      Reg   \n",
       "94           190  C (all)         60.0     7200   Pave   NaN      Reg   \n",
       "126          190       RM         60.0     6780   Pave   NaN      Reg   \n",
       "166          190       RL         62.0    10106   Pave   NaN      Reg   \n",
       "173          160       RL         44.0     5306   Pave   NaN      IR1   \n",
       "...          ...      ...          ...      ...    ...   ...      ...   \n",
       "1351          90       RL         91.0    11643   Pave   NaN      Reg   \n",
       "635           90       RL         64.0     6979   Pave   NaN      Reg   \n",
       "911           90       RL         80.0    11600   Pave   NaN      Reg   \n",
       "1293          70       RM         60.0     6600   Pave   NaN      Reg   \n",
       "913           30       RM         51.0     6120   Pave   NaN      Reg   \n",
       "\n",
       "     LandContour Utilities LotConfig  ... PoolArea PoolQC  Fence MiscFeature  \\\n",
       "Id                                    ...                                      \n",
       "49           Lvl    AllPub    Inside  ...        0    NaN    NaN         NaN   \n",
       "94           Lvl    AllPub    Corner  ...        0    NaN    NaN         NaN   \n",
       "126          Lvl    AllPub    Inside  ...        0    NaN    NaN         NaN   \n",
       "166          Lvl    AllPub    Inside  ...        0    NaN    NaN         NaN   \n",
       "173          Lvl    AllPub    Inside  ...        0    NaN    NaN         NaN   \n",
       "...          ...       ...       ...  ...      ...    ...    ...         ...   \n",
       "1351         Lvl    AllPub    Inside  ...        0    NaN    NaN         NaN   \n",
       "635          Lvl    AllPub    Inside  ...        0    NaN  GdPrv        Shed   \n",
       "911          Lvl    AllPub    Corner  ...        0    NaN    NaN         NaN   \n",
       "1293         Lvl    AllPub    Corner  ...        0    NaN    NaN         NaN   \n",
       "913          Lvl    AllPub    Inside  ...        0    NaN  MnPrv        Shed   \n",
       "\n",
       "     MiscVal MoSold  YrSold  SaleType  SaleCondition  SalePrice  \n",
       "Id                                                               \n",
       "49         0      6    2009       New        Partial     113000  \n",
       "94         0     11    2007        WD         Normal     133900  \n",
       "126        0      6    2006        WD         Normal      84500  \n",
       "166        0      9    2008        WD         Normal     127500  \n",
       "173        0      6    2006        WD         Normal     239000  \n",
       "...      ...    ...     ...       ...            ...        ...  \n",
       "1351       0      8    2009        WD         Normal     200000  \n",
       "635      600      6    2010        WD         Normal     144000  \n",
       "911        0      1    2010        WD         Normal     154300  \n",
       "1293       0     12    2009        WD         Normal     107500  \n",
       "913      620      7    2006        WD        Abnorml      88000  \n",
       "\n",
       "[122 rows x 80 columns]"
      ]
     },
     "execution_count": 7,
     "metadata": {},
     "output_type": "execute_result"
    }
   ],
   "source": [
    "data.loc[Outliers_to_drop] # Show the outliers rows"
   ]
  },
  {
   "cell_type": "markdown",
   "metadata": {
    "papermill": {
     "duration": 0.026568,
     "end_time": "2020-12-15T11:52:41.704888",
     "exception": false,
     "start_time": "2020-12-15T11:52:41.678320",
     "status": "completed"
    },
    "tags": []
   },
   "source": [
    "### Hoe we can see that there are only 122 lines of outliers in dataset.  This is not a significant part, we can delete these lines in a very short way.\n"
   ]
  },
  {
   "cell_type": "code",
   "execution_count": 8,
   "metadata": {
    "execution": {
     "iopub.execute_input": "2020-12-15T11:52:41.764930Z",
     "iopub.status.busy": "2020-12-15T11:52:41.764206Z",
     "iopub.status.idle": "2020-12-15T11:52:41.804552Z",
     "shell.execute_reply": "2020-12-15T11:52:41.803681Z"
    },
    "papermill": {
     "duration": 0.073907,
     "end_time": "2020-12-15T11:52:41.804714",
     "exception": false,
     "start_time": "2020-12-15T11:52:41.730807",
     "status": "completed"
    },
    "tags": []
   },
   "outputs": [
    {
     "name": "stdout",
     "output_type": "stream",
     "text": [
      "<class 'pandas.core.frame.DataFrame'>\n",
      "RangeIndex: 1338 entries, 0 to 1337\n",
      "Data columns (total 80 columns):\n",
      " #   Column         Non-Null Count  Dtype  \n",
      "---  ------         --------------  -----  \n",
      " 0   MSSubClass     1338 non-null   int64  \n",
      " 1   MSZoning       1338 non-null   object \n",
      " 2   LotFrontage    1109 non-null   float64\n",
      " 3   LotArea        1338 non-null   int64  \n",
      " 4   Street         1338 non-null   object \n",
      " 5   Alley          79 non-null     object \n",
      " 6   LotShape       1338 non-null   object \n",
      " 7   LandContour    1338 non-null   object \n",
      " 8   Utilities      1338 non-null   object \n",
      " 9   LotConfig      1338 non-null   object \n",
      " 10  LandSlope      1338 non-null   object \n",
      " 11  Neighborhood   1338 non-null   object \n",
      " 12  Condition1     1338 non-null   object \n",
      " 13  Condition2     1338 non-null   object \n",
      " 14  BldgType       1338 non-null   object \n",
      " 15  HouseStyle     1338 non-null   object \n",
      " 16  OverallQual    1338 non-null   int64  \n",
      " 17  OverallCond    1338 non-null   int64  \n",
      " 18  YearBuilt      1338 non-null   int64  \n",
      " 19  YearRemodAdd   1338 non-null   int64  \n",
      " 20  RoofStyle      1338 non-null   object \n",
      " 21  RoofMatl       1338 non-null   object \n",
      " 22  Exterior1st    1338 non-null   object \n",
      " 23  Exterior2nd    1338 non-null   object \n",
      " 24  MasVnrType     1331 non-null   object \n",
      " 25  MasVnrArea     1331 non-null   float64\n",
      " 26  ExterQual      1338 non-null   object \n",
      " 27  ExterCond      1338 non-null   object \n",
      " 28  Foundation     1338 non-null   object \n",
      " 29  BsmtQual       1307 non-null   object \n",
      " 30  BsmtCond       1307 non-null   object \n",
      " 31  BsmtExposure   1306 non-null   object \n",
      " 32  BsmtFinType1   1307 non-null   object \n",
      " 33  BsmtFinSF1     1338 non-null   int64  \n",
      " 34  BsmtFinType2   1306 non-null   object \n",
      " 35  BsmtFinSF2     1338 non-null   int64  \n",
      " 36  BsmtUnfSF      1338 non-null   int64  \n",
      " 37  TotalBsmtSF    1338 non-null   int64  \n",
      " 38  Heating        1338 non-null   object \n",
      " 39  HeatingQC      1338 non-null   object \n",
      " 40  CentralAir     1338 non-null   object \n",
      " 41  Electrical     1337 non-null   object \n",
      " 42  1stFlrSF       1338 non-null   int64  \n",
      " 43  2ndFlrSF       1338 non-null   int64  \n",
      " 44  LowQualFinSF   1338 non-null   int64  \n",
      " 45  GrLivArea      1338 non-null   int64  \n",
      " 46  BsmtFullBath   1338 non-null   int64  \n",
      " 47  BsmtHalfBath   1338 non-null   int64  \n",
      " 48  FullBath       1338 non-null   int64  \n",
      " 49  HalfBath       1338 non-null   int64  \n",
      " 50  BedroomAbvGr   1338 non-null   int64  \n",
      " 51  KitchenAbvGr   1338 non-null   int64  \n",
      " 52  KitchenQual    1338 non-null   object \n",
      " 53  TotRmsAbvGrd   1338 non-null   int64  \n",
      " 54  Functional     1338 non-null   object \n",
      " 55  Fireplaces     1338 non-null   int64  \n",
      " 56  FireplaceQu    692 non-null    object \n",
      " 57  GarageType     1273 non-null   object \n",
      " 58  GarageYrBlt    1273 non-null   float64\n",
      " 59  GarageFinish   1273 non-null   object \n",
      " 60  GarageCars     1338 non-null   int64  \n",
      " 61  GarageArea     1338 non-null   int64  \n",
      " 62  GarageQual     1273 non-null   object \n",
      " 63  GarageCond     1273 non-null   object \n",
      " 64  PavedDrive     1338 non-null   object \n",
      " 65  WoodDeckSF     1338 non-null   int64  \n",
      " 66  OpenPorchSF    1338 non-null   int64  \n",
      " 67  EnclosedPorch  1338 non-null   int64  \n",
      " 68  3SsnPorch      1338 non-null   int64  \n",
      " 69  ScreenPorch    1338 non-null   int64  \n",
      " 70  PoolArea       1338 non-null   int64  \n",
      " 71  PoolQC         2 non-null      object \n",
      " 72  Fence          255 non-null    object \n",
      " 73  MiscFeature    38 non-null     object \n",
      " 74  MiscVal        1338 non-null   int64  \n",
      " 75  MoSold         1338 non-null   int64  \n",
      " 76  YrSold         1338 non-null   int64  \n",
      " 77  SaleType       1338 non-null   object \n",
      " 78  SaleCondition  1338 non-null   object \n",
      " 79  SalePrice      1338 non-null   int64  \n",
      "dtypes: float64(3), int64(34), object(43)\n",
      "memory usage: 836.4+ KB\n"
     ]
    }
   ],
   "source": [
    "data = data.drop(Outliers_to_drop, axis = 0).reset_index(drop=True)\n",
    "data.info()"
   ]
  },
  {
   "cell_type": "markdown",
   "metadata": {
    "papermill": {
     "duration": 0.040358,
     "end_time": "2020-12-15T11:52:41.882587",
     "exception": false,
     "start_time": "2020-12-15T11:52:41.842229",
     "status": "completed"
    },
    "tags": []
   },
   "source": [
    "# Preparing the dataset for modeling\n",
    "### Divide train-data and train-labels, concat train and test dataset to fill in missing values and coding categorical features"
   ]
  },
  {
   "cell_type": "code",
   "execution_count": 9,
   "metadata": {
    "execution": {
     "iopub.execute_input": "2020-12-15T11:52:41.968505Z",
     "iopub.status.busy": "2020-12-15T11:52:41.966516Z",
     "iopub.status.idle": "2020-12-15T11:52:42.028436Z",
     "shell.execute_reply": "2020-12-15T11:52:42.027626Z"
    },
    "papermill": {
     "duration": 0.110383,
     "end_time": "2020-12-15T11:52:42.028583",
     "exception": false,
     "start_time": "2020-12-15T11:52:41.918200",
     "status": "completed"
    },
    "tags": []
   },
   "outputs": [
    {
     "name": "stdout",
     "output_type": "stream",
     "text": [
      "<class 'pandas.core.frame.DataFrame'>\n",
      "Int64Index: 2797 entries, 0 to 2919\n",
      "Data columns (total 79 columns):\n",
      " #   Column         Non-Null Count  Dtype  \n",
      "---  ------         --------------  -----  \n",
      " 0   MSSubClass     2797 non-null   int64  \n",
      " 1   MSZoning       2793 non-null   object \n",
      " 2   LotFrontage    2341 non-null   float64\n",
      " 3   LotArea        2797 non-null   int64  \n",
      " 4   Street         2797 non-null   object \n",
      " 5   Alley          186 non-null    object \n",
      " 6   LotShape       2797 non-null   object \n",
      " 7   LandContour    2797 non-null   object \n",
      " 8   Utilities      2795 non-null   object \n",
      " 9   LotConfig      2797 non-null   object \n",
      " 10  LandSlope      2797 non-null   object \n",
      " 11  Neighborhood   2797 non-null   object \n",
      " 12  Condition1     2797 non-null   object \n",
      " 13  Condition2     2797 non-null   object \n",
      " 14  BldgType       2797 non-null   object \n",
      " 15  HouseStyle     2797 non-null   object \n",
      " 16  OverallQual    2797 non-null   int64  \n",
      " 17  OverallCond    2797 non-null   int64  \n",
      " 18  YearBuilt      2797 non-null   int64  \n",
      " 19  YearRemodAdd   2797 non-null   int64  \n",
      " 20  RoofStyle      2797 non-null   object \n",
      " 21  RoofMatl       2797 non-null   object \n",
      " 22  Exterior1st    2796 non-null   object \n",
      " 23  Exterior2nd    2796 non-null   object \n",
      " 24  MasVnrType     2774 non-null   object \n",
      " 25  MasVnrArea     2775 non-null   float64\n",
      " 26  ExterQual      2797 non-null   object \n",
      " 27  ExterCond      2797 non-null   object \n",
      " 28  Foundation     2797 non-null   object \n",
      " 29  BsmtQual       2722 non-null   object \n",
      " 30  BsmtCond       2721 non-null   object \n",
      " 31  BsmtExposure   2721 non-null   object \n",
      " 32  BsmtFinType1   2724 non-null   object \n",
      " 33  BsmtFinSF1     2796 non-null   float64\n",
      " 34  BsmtFinType2   2723 non-null   object \n",
      " 35  BsmtFinSF2     2796 non-null   float64\n",
      " 36  BsmtUnfSF      2796 non-null   float64\n",
      " 37  TotalBsmtSF    2796 non-null   float64\n",
      " 38  Heating        2797 non-null   object \n",
      " 39  HeatingQC      2797 non-null   object \n",
      " 40  CentralAir     2797 non-null   object \n",
      " 41  Electrical     2796 non-null   object \n",
      " 42  1stFlrSF       2797 non-null   int64  \n",
      " 43  2ndFlrSF       2797 non-null   int64  \n",
      " 44  LowQualFinSF   2797 non-null   int64  \n",
      " 45  GrLivArea      2797 non-null   int64  \n",
      " 46  BsmtFullBath   2795 non-null   float64\n",
      " 47  BsmtHalfBath   2795 non-null   float64\n",
      " 48  FullBath       2797 non-null   int64  \n",
      " 49  HalfBath       2797 non-null   int64  \n",
      " 50  BedroomAbvGr   2797 non-null   int64  \n",
      " 51  KitchenAbvGr   2797 non-null   int64  \n",
      " 52  KitchenQual    2796 non-null   object \n",
      " 53  TotRmsAbvGrd   2797 non-null   int64  \n",
      " 54  Functional     2795 non-null   object \n",
      " 55  Fireplaces     2797 non-null   int64  \n",
      " 56  FireplaceQu    1421 non-null   object \n",
      " 57  GarageType     2656 non-null   object \n",
      " 58  GarageYrBlt    2654 non-null   float64\n",
      " 59  GarageFinish   2654 non-null   object \n",
      " 60  GarageCars     2796 non-null   float64\n",
      " 61  GarageArea     2796 non-null   float64\n",
      " 62  GarageQual     2654 non-null   object \n",
      " 63  GarageCond     2654 non-null   object \n",
      " 64  PavedDrive     2797 non-null   object \n",
      " 65  WoodDeckSF     2797 non-null   int64  \n",
      " 66  OpenPorchSF    2797 non-null   int64  \n",
      " 67  EnclosedPorch  2797 non-null   int64  \n",
      " 68  3SsnPorch      2797 non-null   int64  \n",
      " 69  ScreenPorch    2797 non-null   int64  \n",
      " 70  PoolArea       2797 non-null   int64  \n",
      " 71  PoolQC         5 non-null      object \n",
      " 72  Fence          545 non-null    object \n",
      " 73  MiscFeature    89 non-null     object \n",
      " 74  MiscVal        2797 non-null   int64  \n",
      " 75  MoSold         2797 non-null   int64  \n",
      " 76  YrSold         2797 non-null   int64  \n",
      " 77  SaleType       2796 non-null   object \n",
      " 78  SaleCondition  2797 non-null   object \n",
      "dtypes: float64(11), int64(25), object(43)\n",
      "memory usage: 1.7+ MB\n"
     ]
    }
   ],
   "source": [
    "y_train = data[\"SalePrice\"]\n",
    "del data[\"SalePrice\"]\n",
    "\n",
    "Data=pd.concat([data, dataT])\n",
    "Data.info()"
   ]
  },
  {
   "cell_type": "markdown",
   "metadata": {
    "papermill": {
     "duration": 0.030463,
     "end_time": "2020-12-15T11:52:42.091285",
     "exception": false,
     "start_time": "2020-12-15T11:52:42.060822",
     "status": "completed"
    },
    "tags": []
   },
   "source": [
    "### Fill in the missing values with the median for quantitative features and the most frequently mentioned for qualitative:\n",
    "\n"
   ]
  },
  {
   "cell_type": "code",
   "execution_count": 10,
   "metadata": {
    "execution": {
     "iopub.execute_input": "2020-12-15T11:52:42.161349Z",
     "iopub.status.busy": "2020-12-15T11:52:42.159128Z",
     "iopub.status.idle": "2020-12-15T11:52:42.257345Z",
     "shell.execute_reply": "2020-12-15T11:52:42.256327Z"
    },
    "papermill": {
     "duration": 0.136135,
     "end_time": "2020-12-15T11:52:42.257529",
     "exception": false,
     "start_time": "2020-12-15T11:52:42.121394",
     "status": "completed"
    },
    "tags": []
   },
   "outputs": [
    {
     "name": "stdout",
     "output_type": "stream",
     "text": [
      "<class 'pandas.core.frame.DataFrame'>\n",
      "Int64Index: 2797 entries, 0 to 2919\n",
      "Data columns (total 79 columns):\n",
      " #   Column         Non-Null Count  Dtype  \n",
      "---  ------         --------------  -----  \n",
      " 0   MSSubClass     2797 non-null   int64  \n",
      " 1   MSZoning       2797 non-null   object \n",
      " 2   LotFrontage    2797 non-null   float64\n",
      " 3   LotArea        2797 non-null   int64  \n",
      " 4   Street         2797 non-null   object \n",
      " 5   Alley          2797 non-null   object \n",
      " 6   LotShape       2797 non-null   object \n",
      " 7   LandContour    2797 non-null   object \n",
      " 8   Utilities      2797 non-null   object \n",
      " 9   LotConfig      2797 non-null   object \n",
      " 10  LandSlope      2797 non-null   object \n",
      " 11  Neighborhood   2797 non-null   object \n",
      " 12  Condition1     2797 non-null   object \n",
      " 13  Condition2     2797 non-null   object \n",
      " 14  BldgType       2797 non-null   object \n",
      " 15  HouseStyle     2797 non-null   object \n",
      " 16  OverallQual    2797 non-null   int64  \n",
      " 17  OverallCond    2797 non-null   int64  \n",
      " 18  YearBuilt      2797 non-null   int64  \n",
      " 19  YearRemodAdd   2797 non-null   int64  \n",
      " 20  RoofStyle      2797 non-null   object \n",
      " 21  RoofMatl       2797 non-null   object \n",
      " 22  Exterior1st    2797 non-null   object \n",
      " 23  Exterior2nd    2797 non-null   object \n",
      " 24  MasVnrType     2797 non-null   object \n",
      " 25  MasVnrArea     2797 non-null   float64\n",
      " 26  ExterQual      2797 non-null   object \n",
      " 27  ExterCond      2797 non-null   object \n",
      " 28  Foundation     2797 non-null   object \n",
      " 29  BsmtQual       2797 non-null   object \n",
      " 30  BsmtCond       2797 non-null   object \n",
      " 31  BsmtExposure   2797 non-null   object \n",
      " 32  BsmtFinType1   2797 non-null   object \n",
      " 33  BsmtFinSF1     2797 non-null   float64\n",
      " 34  BsmtFinType2   2797 non-null   object \n",
      " 35  BsmtFinSF2     2797 non-null   float64\n",
      " 36  BsmtUnfSF      2797 non-null   float64\n",
      " 37  TotalBsmtSF    2797 non-null   float64\n",
      " 38  Heating        2797 non-null   object \n",
      " 39  HeatingQC      2797 non-null   object \n",
      " 40  CentralAir     2797 non-null   object \n",
      " 41  Electrical     2797 non-null   object \n",
      " 42  1stFlrSF       2797 non-null   int64  \n",
      " 43  2ndFlrSF       2797 non-null   int64  \n",
      " 44  LowQualFinSF   2797 non-null   int64  \n",
      " 45  GrLivArea      2797 non-null   int64  \n",
      " 46  BsmtFullBath   2797 non-null   float64\n",
      " 47  BsmtHalfBath   2797 non-null   float64\n",
      " 48  FullBath       2797 non-null   int64  \n",
      " 49  HalfBath       2797 non-null   int64  \n",
      " 50  BedroomAbvGr   2797 non-null   int64  \n",
      " 51  KitchenAbvGr   2797 non-null   int64  \n",
      " 52  KitchenQual    2797 non-null   object \n",
      " 53  TotRmsAbvGrd   2797 non-null   int64  \n",
      " 54  Functional     2797 non-null   object \n",
      " 55  Fireplaces     2797 non-null   int64  \n",
      " 56  FireplaceQu    2797 non-null   object \n",
      " 57  GarageType     2797 non-null   object \n",
      " 58  GarageYrBlt    2797 non-null   float64\n",
      " 59  GarageFinish   2797 non-null   object \n",
      " 60  GarageCars     2797 non-null   float64\n",
      " 61  GarageArea     2797 non-null   float64\n",
      " 62  GarageQual     2797 non-null   object \n",
      " 63  GarageCond     2797 non-null   object \n",
      " 64  PavedDrive     2797 non-null   object \n",
      " 65  WoodDeckSF     2797 non-null   int64  \n",
      " 66  OpenPorchSF    2797 non-null   int64  \n",
      " 67  EnclosedPorch  2797 non-null   int64  \n",
      " 68  3SsnPorch      2797 non-null   int64  \n",
      " 69  ScreenPorch    2797 non-null   int64  \n",
      " 70  PoolArea       2797 non-null   int64  \n",
      " 71  PoolQC         2797 non-null   object \n",
      " 72  Fence          2797 non-null   object \n",
      " 73  MiscFeature    2797 non-null   object \n",
      " 74  MiscVal        2797 non-null   int64  \n",
      " 75  MoSold         2797 non-null   int64  \n",
      " 76  YrSold         2797 non-null   int64  \n",
      " 77  SaleType       2797 non-null   object \n",
      " 78  SaleCondition  2797 non-null   object \n",
      "dtypes: float64(11), int64(25), object(43)\n",
      "memory usage: 1.7+ MB\n"
     ]
    }
   ],
   "source": [
    "for i in num_feat:\n",
    "    Data[i].fillna(float(Data[i].median(axis=0)), inplace = True)\n",
    "for i in cat_feat:\n",
    "    Data[i].fillna(Data[i].mode()[0], inplace = True)\n",
    "Data.info()"
   ]
  },
  {
   "cell_type": "code",
   "execution_count": 11,
   "metadata": {
    "execution": {
     "iopub.execute_input": "2020-12-15T11:52:42.328108Z",
     "iopub.status.busy": "2020-12-15T11:52:42.327000Z",
     "iopub.status.idle": "2020-12-15T11:52:42.384237Z",
     "shell.execute_reply": "2020-12-15T11:52:42.383527Z"
    },
    "papermill": {
     "duration": 0.096882,
     "end_time": "2020-12-15T11:52:42.384389",
     "exception": false,
     "start_time": "2020-12-15T11:52:42.287507",
     "status": "completed"
    },
    "tags": []
   },
   "outputs": [],
   "source": [
    "Data=pd.get_dummies(Data)"
   ]
  },
  {
   "cell_type": "markdown",
   "metadata": {
    "papermill": {
     "duration": 0.027829,
     "end_time": "2020-12-15T11:52:42.440688",
     "exception": false,
     "start_time": "2020-12-15T11:52:42.412859",
     "status": "completed"
    },
    "tags": []
   },
   "source": [
    "### Divide the dataset into train and test"
   ]
  },
  {
   "cell_type": "code",
   "execution_count": 12,
   "metadata": {
    "execution": {
     "iopub.execute_input": "2020-12-15T11:52:42.520479Z",
     "iopub.status.busy": "2020-12-15T11:52:42.506548Z",
     "iopub.status.idle": "2020-12-15T11:52:42.546093Z",
     "shell.execute_reply": "2020-12-15T11:52:42.546647Z"
    },
    "papermill": {
     "duration": 0.076504,
     "end_time": "2020-12-15T11:52:42.546814",
     "exception": false,
     "start_time": "2020-12-15T11:52:42.470310",
     "status": "completed"
    },
    "tags": []
   },
   "outputs": [
    {
     "name": "stdout",
     "output_type": "stream",
     "text": [
      "<class 'pandas.core.frame.DataFrame'>\n",
      "Int64Index: 1338 entries, 0 to 1337\n",
      "Columns: 284 entries, MSSubClass to SaleCondition_Partial\n",
      "dtypes: float64(11), int64(25), uint8(248)\n",
      "memory usage: 710.8 KB\n",
      "None\n",
      "<class 'pandas.core.frame.DataFrame'>\n",
      "Int64Index: 1459 entries, 1461 to 2919\n",
      "Columns: 284 entries, MSSubClass to SaleCondition_Partial\n",
      "dtypes: float64(11), int64(25), uint8(248)\n",
      "memory usage: 775.1 KB\n",
      "None\n"
     ]
    }
   ],
   "source": [
    "X_train = Data[:1338]\n",
    "X_test = Data[1338:]\n",
    "\n",
    "print((X_train.info()))\n",
    "print((X_test.info()))"
   ]
  },
  {
   "cell_type": "markdown",
   "metadata": {
    "papermill": {
     "duration": 0.028158,
     "end_time": "2020-12-15T11:52:42.603791",
     "exception": false,
     "start_time": "2020-12-15T11:52:42.575633",
     "status": "completed"
    },
    "tags": []
   },
   "source": [
    "# Modeling"
   ]
  },
  {
   "cell_type": "markdown",
   "metadata": {
    "papermill": {
     "duration": 0.029071,
     "end_time": "2020-12-15T11:52:42.662158",
     "exception": false,
     "start_time": "2020-12-15T11:52:42.633087",
     "status": "completed"
    },
    "tags": []
   },
   "source": [
    "# LinearRegression"
   ]
  },
  {
   "cell_type": "code",
   "execution_count": 13,
   "metadata": {
    "execution": {
     "iopub.execute_input": "2020-12-15T11:52:42.747150Z",
     "iopub.status.busy": "2020-12-15T11:52:42.741735Z",
     "iopub.status.idle": "2020-12-15T11:52:42.895256Z",
     "shell.execute_reply": "2020-12-15T11:52:42.896336Z"
    },
    "papermill": {
     "duration": 0.193493,
     "end_time": "2020-12-15T11:52:42.896605",
     "exception": false,
     "start_time": "2020-12-15T11:52:42.703112",
     "status": "completed"
    },
    "tags": []
   },
   "outputs": [
    {
     "name": "stdout",
     "output_type": "stream",
     "text": [
      "[('MSSubClass', -72.3447763370166), ('MSZoning', 58.714645138328144), ('LotFrontage', 1.1617854644106202), ('LotArea', 6762.340166924009), ('Street', 4865.283898592986), ('Alley', 335.16502563370756), ('LotShape', 99.86253852696943), ('LandContour', 20.88401378838313), ('Utilities', 14.279754850833768), ('LotConfig', 7.429342052167556), ('LandSlope', -3.949839754804998), ('Neighborhood', 17.759275632745357), ('Condition1', 10.670390634066734), ('Condition2', 25.541966775298988), ('BldgType', 7.8527710873840775), ('HouseStyle', 44.065084051654594), ('OverallQual', 3061.9575364075813), ('OverallCond', -1365.7155723117748), ('YearBuilt', 2166.836385633687), ('YearRemodAdd', 282.10705131143413), ('RoofStyle', -3417.6867429231634), ('RoofMatl', -10519.40658559009), ('Exterior1st', 106.17268956197167), ('Exterior2nd', 2170.805152519895), ('MasVnrType', 18.484515975713492), ('MasVnrArea', 4293.058227476177), ('ExterQual', 7.146949090547878), ('ExterCond', 19.908358705859882), ('Foundation', 21.95487808239625), ('BsmtQual', 12.2425825484587), ('BsmtCond', 36.07704125649818), ('BsmtExposure', 28.60360023276455), ('BsmtFinType1', 47.469358781218055), ('BsmtFinSF1', 4.26625072763818), ('BsmtFinType2', 116.50032737631997), ('BsmtFinSF2', -634.934595563773), ('BsmtUnfSF', -27004.397223750304), ('TotalBsmtSF', 14749.067328700818), ('Heating', 4433.459323271676), ('HeatingQC', 7560.645475211783), ('CentralAir', 261.2250968447985), ('Electrical', -7391.038074520573), ('1stFlrSF', 7391.0380745581515), ('2ndFlrSF', 2089.256095895689), ('LowQualFinSF', -2089.256096092135), ('GrLivArea', 313.3302799815076), ('BsmtFullBath', -1796.054333195116), ('BsmtHalfBath', -239.33368578086123), ('FullBath', 1722.0577394146446), ('HalfBath', 2276.4235448077816), ('BedroomAbvGr', 8174.203722715679), ('KitchenAbvGr', -11878.086625227417), ('KitchenQual', 1427.45935760826), ('TotRmsAbvGrd', -3.603872755775228e-10), ('Functional', 3304.026646769572), ('Fireplaces', 9206.785864723242), ('FireplaceQu', -4509.682515473016), ('GarageType', -9483.460641448855), ('GarageYrBlt', 1482.330645490102), ('GarageFinish', 12278.53999060976), ('GarageCars', 15529.990149518537), ('GarageArea', -27808.530140144347), ('GarageQual', 2078.7694251298067), ('GarageCond', 7413.531101216115), ('PavedDrive', 9699.153232042388), ('WoodDeckSF', 5197.746256732497), ('OpenPorchSF', -9624.49737923569), ('EnclosedPorch', -8197.145718355056), ('3SsnPorch', 13715.000170403562), ('ScreenPorch', -14925.033709483963), ('PoolArea', -11266.295612742919), ('PoolQC', -1486.8451325672413), ('Fence', 1784.3381579823863), ('MiscFeature', -17103.491762341793), ('MiscVal', -11683.74481110081), ('MoSold', 14314.65285210455), ('YrSold', -12153.272212054359), ('SaleType', 17783.49473157394), ('SaleCondition', 15761.044019461417)]\n"
     ]
    }
   ],
   "source": [
    "LR = linear_model.LinearRegression().fit(X_train, y_train)\n",
    "print (list( zip (data.columns, LR.coef_ )))"
   ]
  },
  {
   "cell_type": "code",
   "execution_count": 14,
   "metadata": {
    "execution": {
     "iopub.execute_input": "2020-12-15T11:52:42.976918Z",
     "iopub.status.busy": "2020-12-15T11:52:42.975764Z",
     "iopub.status.idle": "2020-12-15T11:52:42.986711Z",
     "shell.execute_reply": "2020-12-15T11:52:42.987634Z"
    },
    "papermill": {
     "duration": 0.05939,
     "end_time": "2020-12-15T11:52:42.987842",
     "exception": false,
     "start_time": "2020-12-15T11:52:42.928452",
     "status": "completed"
    },
    "tags": []
   },
   "outputs": [
    {
     "data": {
      "text/plain": [
       "{'copy_X': True, 'fit_intercept': True, 'n_jobs': None, 'normalize': False}"
      ]
     },
     "execution_count": 14,
     "metadata": {},
     "output_type": "execute_result"
    }
   ],
   "source": [
    "LR.get_params()"
   ]
  },
  {
   "cell_type": "code",
   "execution_count": 15,
   "metadata": {
    "execution": {
     "iopub.execute_input": "2020-12-15T11:52:43.079068Z",
     "iopub.status.busy": "2020-12-15T11:52:43.077659Z",
     "iopub.status.idle": "2020-12-15T11:52:43.086050Z",
     "shell.execute_reply": "2020-12-15T11:52:43.086790Z"
    },
    "papermill": {
     "duration": 0.046347,
     "end_time": "2020-12-15T11:52:43.086976",
     "exception": false,
     "start_time": "2020-12-15T11:52:43.040629",
     "status": "completed"
    },
    "tags": []
   },
   "outputs": [
    {
     "data": {
      "text/plain": [
       "dict_keys(['explained_variance', 'r2', 'max_error', 'neg_median_absolute_error', 'neg_mean_absolute_error', 'neg_mean_squared_error', 'neg_mean_squared_log_error', 'neg_root_mean_squared_error', 'neg_mean_poisson_deviance', 'neg_mean_gamma_deviance', 'accuracy', 'roc_auc', 'roc_auc_ovr', 'roc_auc_ovo', 'roc_auc_ovr_weighted', 'roc_auc_ovo_weighted', 'balanced_accuracy', 'average_precision', 'neg_log_loss', 'neg_brier_score', 'adjusted_rand_score', 'homogeneity_score', 'completeness_score', 'v_measure_score', 'mutual_info_score', 'adjusted_mutual_info_score', 'normalized_mutual_info_score', 'fowlkes_mallows_score', 'precision', 'precision_macro', 'precision_micro', 'precision_samples', 'precision_weighted', 'recall', 'recall_macro', 'recall_micro', 'recall_samples', 'recall_weighted', 'f1', 'f1_macro', 'f1_micro', 'f1_samples', 'f1_weighted', 'jaccard', 'jaccard_macro', 'jaccard_micro', 'jaccard_samples', 'jaccard_weighted'])"
      ]
     },
     "execution_count": 15,
     "metadata": {},
     "output_type": "execute_result"
    }
   ],
   "source": [
    "metrics.SCORERS.keys()"
   ]
  },
  {
   "cell_type": "code",
   "execution_count": 16,
   "metadata": {
    "execution": {
     "iopub.execute_input": "2020-12-15T11:52:43.164877Z",
     "iopub.status.busy": "2020-12-15T11:52:43.163868Z",
     "iopub.status.idle": "2020-12-15T11:52:43.409610Z",
     "shell.execute_reply": "2020-12-15T11:52:43.410140Z"
    },
    "papermill": {
     "duration": 0.284389,
     "end_time": "2020-12-15T11:52:43.410300",
     "exception": false,
     "start_time": "2020-12-15T11:52:43.125911",
     "status": "completed"
    },
    "tags": []
   },
   "outputs": [
    {
     "name": "stdout",
     "output_type": "stream",
     "text": [
      "[-3.99478592e+08 -5.11572276e+08 -5.74113243e+08 -3.58776260e+08\n",
      " -5.54475970e+08]\n"
     ]
    }
   ],
   "source": [
    "estimatorLR = model_selection.cross_val_score(linear_model.LinearRegression(), X_train, y_train,  scoring='neg_mean_squared_error', cv=5)\n",
    " \n",
    "print(estimatorLR)"
   ]
  },
  {
   "cell_type": "code",
   "execution_count": 17,
   "metadata": {
    "execution": {
     "iopub.execute_input": "2020-12-15T11:52:43.480176Z",
     "iopub.status.busy": "2020-12-15T11:52:43.479145Z",
     "iopub.status.idle": "2020-12-15T11:52:44.642759Z",
     "shell.execute_reply": "2020-12-15T11:52:44.643535Z"
    },
    "papermill": {
     "duration": 1.201444,
     "end_time": "2020-12-15T11:52:44.643762",
     "exception": false,
     "start_time": "2020-12-15T11:52:43.442318",
     "status": "completed"
    },
    "tags": []
   },
   "outputs": [
    {
     "name": "stderr",
     "output_type": "stream",
     "text": [
      "/opt/conda/lib/python3.7/site-packages/sklearn/linear_model/_coordinate_descent.py:531: ConvergenceWarning: Objective did not converge. You might want to increase the number of iterations. Duality gap: 9540845829.35437, tolerance: 543129941.7404864\n",
      "  positive)\n",
      "/opt/conda/lib/python3.7/site-packages/sklearn/linear_model/_coordinate_descent.py:531: ConvergenceWarning: Objective did not converge. You might want to increase the number of iterations. Duality gap: 134242106126.9698, tolerance: 502988018.99407285\n",
      "  positive)\n",
      "/opt/conda/lib/python3.7/site-packages/sklearn/linear_model/_coordinate_descent.py:531: ConvergenceWarning: Objective did not converge. You might want to increase the number of iterations. Duality gap: 124245779387.87627, tolerance: 531550212.0112551\n",
      "  positive)\n",
      "/opt/conda/lib/python3.7/site-packages/sklearn/linear_model/_coordinate_descent.py:531: ConvergenceWarning: Objective did not converge. You might want to increase the number of iterations. Duality gap: 147358443688.35364, tolerance: 558292520.6270378\n",
      "  positive)\n"
     ]
    },
    {
     "name": "stdout",
     "output_type": "stream",
     "text": [
      "[-19570.53244458 -22426.57110711 -23318.20798804 -18844.9737048\n",
      " -23400.25504937]\n"
     ]
    },
    {
     "name": "stderr",
     "output_type": "stream",
     "text": [
      "/opt/conda/lib/python3.7/site-packages/sklearn/linear_model/_coordinate_descent.py:531: ConvergenceWarning: Objective did not converge. You might want to increase the number of iterations. Duality gap: 108764161062.24268, tolerance: 509340228.7274272\n",
      "  positive)\n"
     ]
    }
   ],
   "source": [
    "lasso = model_selection.cross_val_score(linear_model.Lasso(), X_train, y_train,  scoring='neg_root_mean_squared_error',  cv=5)\n",
    "print(lasso)"
   ]
  },
  {
   "cell_type": "markdown",
   "metadata": {
    "papermill": {
     "duration": 0.033527,
     "end_time": "2020-12-15T11:52:44.712031",
     "exception": false,
     "start_time": "2020-12-15T11:52:44.678504",
     "status": "completed"
    },
    "tags": []
   },
   "source": [
    "# RidgeClassifier"
   ]
  },
  {
   "cell_type": "code",
   "execution_count": 18,
   "metadata": {
    "execution": {
     "iopub.execute_input": "2020-12-15T11:52:44.788209Z",
     "iopub.status.busy": "2020-12-15T11:52:44.787123Z",
     "iopub.status.idle": "2020-12-15T11:52:45.267153Z",
     "shell.execute_reply": "2020-12-15T11:52:45.266516Z"
    },
    "papermill": {
     "duration": 0.52204,
     "end_time": "2020-12-15T11:52:45.267274",
     "exception": false,
     "start_time": "2020-12-15T11:52:44.745234",
     "status": "completed"
    },
    "tags": []
   },
   "outputs": [
    {
     "name": "stdout",
     "output_type": "stream",
     "text": [
      "score_train_opt -20227.067239413132\n",
      "param_opt {'alpha': 10}\n",
      "[108723.74584211 172089.01501572 186009.46443315 ... 181499.94354285\n",
      " 105499.36978032 217660.41723801]\n"
     ]
    }
   ],
   "source": [
    "param_grid = {'alpha': [0.01, 0.05, 0.1, 0.5, 1, 2, 5, 10]}\n",
    "\n",
    "estimator = linear_model.Ridge( random_state = 1)\n",
    "optimizerR = GridSearchCV(estimator, param_grid,  scoring='neg_root_mean_squared_error',  cv=3)                    \n",
    "optimizerR.fit(X_train, y_train)\n",
    "\n",
    "print('score_train_opt', optimizerR.best_score_)\n",
    "print('param_opt', optimizerR.best_params_)\n",
    "Y=optimizerR.predict(X_test)\n",
    "print(Y)"
   ]
  },
  {
   "cell_type": "markdown",
   "metadata": {
    "papermill": {
     "duration": 0.034312,
     "end_time": "2020-12-15T11:52:45.336532",
     "exception": false,
     "start_time": "2020-12-15T11:52:45.302220",
     "status": "completed"
    },
    "tags": []
   },
   "source": [
    "# DecisionTree"
   ]
  },
  {
   "cell_type": "code",
   "execution_count": 19,
   "metadata": {
    "execution": {
     "iopub.execute_input": "2020-12-15T11:52:45.417439Z",
     "iopub.status.busy": "2020-12-15T11:52:45.416681Z",
     "iopub.status.idle": "2020-12-15T11:52:50.829995Z",
     "shell.execute_reply": "2020-12-15T11:52:50.831292Z"
    },
    "papermill": {
     "duration": 5.459881,
     "end_time": "2020-12-15T11:52:50.831490",
     "exception": false,
     "start_time": "2020-12-15T11:52:45.371609",
     "status": "completed"
    },
    "tags": []
   },
   "outputs": [
    {
     "name": "stdout",
     "output_type": "stream",
     "text": [
      "score_train_opt -30805.402892688002\n",
      "param_opt {'max_depth': 9, 'min_samples_leaf': 7}\n"
     ]
    }
   ],
   "source": [
    "param_grid = {'max_depth': list(range(1, 10)), 'min_samples_leaf': list(range(2, 10))}#, 'class_weightdict': [\"balanced\", \"None\"]}\n",
    "\n",
    "\n",
    "estimator = tree.DecisionTreeRegressor(random_state = 1)\n",
    "optimizerDT = GridSearchCV(estimator, param_grid,  scoring='neg_root_mean_squared_error', cv = 3)                    \n",
    "optimizerDT.fit(X_train, y_train)\n",
    "\n",
    "print('score_train_opt', optimizerDT.best_score_)\n",
    "print('param_opt', optimizerDT.best_params_)\n"
   ]
  },
  {
   "cell_type": "markdown",
   "metadata": {
    "papermill": {
     "duration": 0.033166,
     "end_time": "2020-12-15T11:52:50.898757",
     "exception": false,
     "start_time": "2020-12-15T11:52:50.865591",
     "status": "completed"
    },
    "tags": []
   },
   "source": [
    "# RandomForestClassifier"
   ]
  },
  {
   "cell_type": "code",
   "execution_count": 20,
   "metadata": {
    "execution": {
     "iopub.execute_input": "2020-12-15T11:52:50.981052Z",
     "iopub.status.busy": "2020-12-15T11:52:50.979571Z",
     "iopub.status.idle": "2020-12-15T11:55:09.416675Z",
     "shell.execute_reply": "2020-12-15T11:55:09.417236Z"
    },
    "papermill": {
     "duration": 138.483081,
     "end_time": "2020-12-15T11:55:09.417444",
     "exception": false,
     "start_time": "2020-12-15T11:52:50.934363",
     "status": "completed"
    },
    "tags": []
   },
   "outputs": [
    {
     "name": "stdout",
     "output_type": "stream",
     "text": [
      "score_train_opt -25976.915677398618\n",
      "param_opt {'min_weight_fraction_leaf': 0.005, 'n_estimators': 50}\n"
     ]
    }
   ],
   "source": [
    "param_grid = {'n_estimators': list(range(10, 100, 5)), 'min_weight_fraction_leaf': [0.001,  0.005, 0.01,  0.05, 0.1,  0.5] } \n",
    "\n",
    "estimator = ensemble.RandomForestRegressor(max_depth=5, random_state = 1)\n",
    "optimizerRF = GridSearchCV(estimator, param_grid,  scoring='neg_root_mean_squared_error', cv=3)                    \n",
    "optimizerRF.fit(X_train, y_train)\n",
    "\n",
    "print('score_train_opt', optimizerRF.best_score_)\n",
    "print('param_opt', optimizerRF.best_params_)\n"
   ]
  },
  {
   "cell_type": "markdown",
   "metadata": {
    "papermill": {
     "duration": 0.033867,
     "end_time": "2020-12-15T11:55:09.485900",
     "exception": false,
     "start_time": "2020-12-15T11:55:09.452033",
     "status": "completed"
    },
    "tags": []
   },
   "source": [
    "# Stochastic Gradient Descent"
   ]
  },
  {
   "cell_type": "code",
   "execution_count": 21,
   "metadata": {
    "execution": {
     "iopub.execute_input": "2020-12-15T11:55:09.563132Z",
     "iopub.status.busy": "2020-12-15T11:55:09.562382Z",
     "iopub.status.idle": "2020-12-15T11:55:09.677691Z",
     "shell.execute_reply": "2020-12-15T11:55:09.676965Z"
    },
    "papermill": {
     "duration": 0.157181,
     "end_time": "2020-12-15T11:55:09.677833",
     "exception": false,
     "start_time": "2020-12-15T11:55:09.520652",
     "status": "completed"
    },
    "tags": []
   },
   "outputs": [
    {
     "name": "stdout",
     "output_type": "stream",
     "text": [
      "[-1.56807126e+16 -2.70814552e+16 -4.25710932e+16 -3.94912087e+16\n",
      " -7.92052175e+16]\n"
     ]
    },
    {
     "name": "stderr",
     "output_type": "stream",
     "text": [
      "/opt/conda/lib/python3.7/site-packages/sklearn/linear_model/_stochastic_gradient.py:1211: ConvergenceWarning: Maximum number of iteration reached before convergence. Consider increasing max_iter to improve the fit.\n",
      "  ConvergenceWarning)\n",
      "/opt/conda/lib/python3.7/site-packages/sklearn/linear_model/_stochastic_gradient.py:1211: ConvergenceWarning: Maximum number of iteration reached before convergence. Consider increasing max_iter to improve the fit.\n",
      "  ConvergenceWarning)\n",
      "/opt/conda/lib/python3.7/site-packages/sklearn/linear_model/_stochastic_gradient.py:1211: ConvergenceWarning: Maximum number of iteration reached before convergence. Consider increasing max_iter to improve the fit.\n",
      "  ConvergenceWarning)\n",
      "/opt/conda/lib/python3.7/site-packages/sklearn/linear_model/_stochastic_gradient.py:1211: ConvergenceWarning: Maximum number of iteration reached before convergence. Consider increasing max_iter to improve the fit.\n",
      "  ConvergenceWarning)\n",
      "/opt/conda/lib/python3.7/site-packages/sklearn/linear_model/_stochastic_gradient.py:1211: ConvergenceWarning: Maximum number of iteration reached before convergence. Consider increasing max_iter to improve the fit.\n",
      "  ConvergenceWarning)\n"
     ]
    }
   ],
   "source": [
    "regressor = linear_model.SGDRegressor(random_state = 0, max_iter=5)\n",
    "print(model_selection.cross_val_score(regressor, X_train, y_train,  scoring='neg_root_mean_squared_error', cv=5))\n",
    "\n"
   ]
  },
  {
   "cell_type": "markdown",
   "metadata": {
    "papermill": {
     "duration": 0.036175,
     "end_time": "2020-12-15T11:55:09.755706",
     "exception": false,
     "start_time": "2020-12-15T11:55:09.719531",
     "status": "completed"
    },
    "tags": []
   },
   "source": [
    "# GradientBoosting"
   ]
  },
  {
   "cell_type": "code",
   "execution_count": 22,
   "metadata": {
    "execution": {
     "iopub.execute_input": "2020-12-15T11:55:09.837646Z",
     "iopub.status.busy": "2020-12-15T11:55:09.836598Z",
     "iopub.status.idle": "2020-12-15T11:56:49.911592Z",
     "shell.execute_reply": "2020-12-15T11:56:49.912604Z"
    },
    "papermill": {
     "duration": 100.115357,
     "end_time": "2020-12-15T11:56:49.912793",
     "exception": false,
     "start_time": "2020-12-15T11:55:09.797436",
     "status": "completed"
    },
    "tags": []
   },
   "outputs": [
    {
     "ename": "ValueError",
     "evalue": "Input contains NaN, infinity or a value too large for dtype('float32').",
     "output_type": "error",
     "traceback": [
      "\u001b[0;31m---------------------------------------------------------------------------\u001b[0m",
      "\u001b[0;31mValueError\u001b[0m                                Traceback (most recent call last)",
      "\u001b[0;32m<ipython-input-22-01e25d6b6b72>\u001b[0m in \u001b[0;36m<module>\u001b[0;34m\u001b[0m\n\u001b[1;32m      2\u001b[0m \u001b[0mestimator\u001b[0m \u001b[0;34m=\u001b[0m \u001b[0mxgb\u001b[0m\u001b[0;34m.\u001b[0m\u001b[0mXGBRegressor\u001b[0m\u001b[0;34m(\u001b[0m\u001b[0mmax_depth\u001b[0m\u001b[0;34m=\u001b[0m\u001b[0;36m5\u001b[0m\u001b[0;34m,\u001b[0m \u001b[0mrandom_state\u001b[0m \u001b[0;34m=\u001b[0m \u001b[0;36m1\u001b[0m\u001b[0;34m,\u001b[0m \u001b[0mmin_child_weight\u001b[0m\u001b[0;34m=\u001b[0m\u001b[0;36m3\u001b[0m\u001b[0;34m)\u001b[0m\u001b[0;34m\u001b[0m\u001b[0;34m\u001b[0m\u001b[0m\n\u001b[1;32m      3\u001b[0m \u001b[0moptimizerXGB\u001b[0m \u001b[0;34m=\u001b[0m \u001b[0mGridSearchCV\u001b[0m\u001b[0;34m(\u001b[0m\u001b[0mestimator\u001b[0m\u001b[0;34m,\u001b[0m \u001b[0mparam_grid\u001b[0m\u001b[0;34m,\u001b[0m \u001b[0mscoring\u001b[0m\u001b[0;34m=\u001b[0m\u001b[0;34m'neg_root_mean_squared_error'\u001b[0m\u001b[0;34m,\u001b[0m \u001b[0mcv\u001b[0m\u001b[0;34m=\u001b[0m\u001b[0;36m3\u001b[0m\u001b[0;34m)\u001b[0m\u001b[0;34m\u001b[0m\u001b[0;34m\u001b[0m\u001b[0m\n\u001b[0;32m----> 4\u001b[0;31m \u001b[0moptimizerXGB\u001b[0m\u001b[0;34m.\u001b[0m\u001b[0mfit\u001b[0m\u001b[0;34m(\u001b[0m\u001b[0mX_train\u001b[0m\u001b[0;34m,\u001b[0m \u001b[0my_train\u001b[0m\u001b[0;34m)\u001b[0m\u001b[0;34m\u001b[0m\u001b[0;34m\u001b[0m\u001b[0m\n\u001b[0m\u001b[1;32m      5\u001b[0m \u001b[0;34m\u001b[0m\u001b[0m\n\u001b[1;32m      6\u001b[0m \u001b[0mprint\u001b[0m\u001b[0;34m(\u001b[0m\u001b[0;34m'score_train_opt'\u001b[0m\u001b[0;34m,\u001b[0m \u001b[0moptimizerXGB\u001b[0m\u001b[0;34m.\u001b[0m\u001b[0mbest_score_\u001b[0m\u001b[0;34m)\u001b[0m\u001b[0;34m\u001b[0m\u001b[0;34m\u001b[0m\u001b[0m\n",
      "\u001b[0;32m/opt/conda/lib/python3.7/site-packages/sklearn/utils/validation.py\u001b[0m in \u001b[0;36minner_f\u001b[0;34m(*args, **kwargs)\u001b[0m\n\u001b[1;32m     70\u001b[0m                           FutureWarning)\n\u001b[1;32m     71\u001b[0m         \u001b[0mkwargs\u001b[0m\u001b[0;34m.\u001b[0m\u001b[0mupdate\u001b[0m\u001b[0;34m(\u001b[0m\u001b[0;34m{\u001b[0m\u001b[0mk\u001b[0m\u001b[0;34m:\u001b[0m \u001b[0marg\u001b[0m \u001b[0;32mfor\u001b[0m \u001b[0mk\u001b[0m\u001b[0;34m,\u001b[0m \u001b[0marg\u001b[0m \u001b[0;32min\u001b[0m \u001b[0mzip\u001b[0m\u001b[0;34m(\u001b[0m\u001b[0msig\u001b[0m\u001b[0;34m.\u001b[0m\u001b[0mparameters\u001b[0m\u001b[0;34m,\u001b[0m \u001b[0margs\u001b[0m\u001b[0;34m)\u001b[0m\u001b[0;34m}\u001b[0m\u001b[0;34m)\u001b[0m\u001b[0;34m\u001b[0m\u001b[0;34m\u001b[0m\u001b[0m\n\u001b[0;32m---> 72\u001b[0;31m         \u001b[0;32mreturn\u001b[0m \u001b[0mf\u001b[0m\u001b[0;34m(\u001b[0m\u001b[0;34m**\u001b[0m\u001b[0mkwargs\u001b[0m\u001b[0;34m)\u001b[0m\u001b[0;34m\u001b[0m\u001b[0;34m\u001b[0m\u001b[0m\n\u001b[0m\u001b[1;32m     73\u001b[0m     \u001b[0;32mreturn\u001b[0m \u001b[0minner_f\u001b[0m\u001b[0;34m\u001b[0m\u001b[0;34m\u001b[0m\u001b[0m\n\u001b[1;32m     74\u001b[0m \u001b[0;34m\u001b[0m\u001b[0m\n",
      "\u001b[0;32m/opt/conda/lib/python3.7/site-packages/sklearn/model_selection/_search.py\u001b[0m in \u001b[0;36mfit\u001b[0;34m(self, X, y, groups, **fit_params)\u001b[0m\n\u001b[1;32m    734\u001b[0m                 \u001b[0;32mreturn\u001b[0m \u001b[0mresults\u001b[0m\u001b[0;34m\u001b[0m\u001b[0;34m\u001b[0m\u001b[0m\n\u001b[1;32m    735\u001b[0m \u001b[0;34m\u001b[0m\u001b[0m\n\u001b[0;32m--> 736\u001b[0;31m             \u001b[0mself\u001b[0m\u001b[0;34m.\u001b[0m\u001b[0m_run_search\u001b[0m\u001b[0;34m(\u001b[0m\u001b[0mevaluate_candidates\u001b[0m\u001b[0;34m)\u001b[0m\u001b[0;34m\u001b[0m\u001b[0;34m\u001b[0m\u001b[0m\n\u001b[0m\u001b[1;32m    737\u001b[0m \u001b[0;34m\u001b[0m\u001b[0m\n\u001b[1;32m    738\u001b[0m         \u001b[0;31m# For multi-metric evaluation, store the best_index_, best_params_ and\u001b[0m\u001b[0;34m\u001b[0m\u001b[0;34m\u001b[0m\u001b[0;34m\u001b[0m\u001b[0m\n",
      "\u001b[0;32m/opt/conda/lib/python3.7/site-packages/sklearn/model_selection/_search.py\u001b[0m in \u001b[0;36m_run_search\u001b[0;34m(self, evaluate_candidates)\u001b[0m\n\u001b[1;32m   1186\u001b[0m     \u001b[0;32mdef\u001b[0m \u001b[0m_run_search\u001b[0m\u001b[0;34m(\u001b[0m\u001b[0mself\u001b[0m\u001b[0;34m,\u001b[0m \u001b[0mevaluate_candidates\u001b[0m\u001b[0;34m)\u001b[0m\u001b[0;34m:\u001b[0m\u001b[0;34m\u001b[0m\u001b[0;34m\u001b[0m\u001b[0m\n\u001b[1;32m   1187\u001b[0m         \u001b[0;34m\"\"\"Search all candidates in param_grid\"\"\"\u001b[0m\u001b[0;34m\u001b[0m\u001b[0;34m\u001b[0m\u001b[0m\n\u001b[0;32m-> 1188\u001b[0;31m         \u001b[0mevaluate_candidates\u001b[0m\u001b[0;34m(\u001b[0m\u001b[0mParameterGrid\u001b[0m\u001b[0;34m(\u001b[0m\u001b[0mself\u001b[0m\u001b[0;34m.\u001b[0m\u001b[0mparam_grid\u001b[0m\u001b[0;34m)\u001b[0m\u001b[0;34m)\u001b[0m\u001b[0;34m\u001b[0m\u001b[0;34m\u001b[0m\u001b[0m\n\u001b[0m\u001b[1;32m   1189\u001b[0m \u001b[0;34m\u001b[0m\u001b[0m\n\u001b[1;32m   1190\u001b[0m \u001b[0;34m\u001b[0m\u001b[0m\n",
      "\u001b[0;32m/opt/conda/lib/python3.7/site-packages/sklearn/model_selection/_search.py\u001b[0m in \u001b[0;36mevaluate_candidates\u001b[0;34m(candidate_params)\u001b[0m\n\u001b[1;32m    713\u001b[0m                                \u001b[0;32mfor\u001b[0m \u001b[0mparameters\u001b[0m\u001b[0;34m,\u001b[0m \u001b[0;34m(\u001b[0m\u001b[0mtrain\u001b[0m\u001b[0;34m,\u001b[0m \u001b[0mtest\u001b[0m\u001b[0;34m)\u001b[0m\u001b[0;34m\u001b[0m\u001b[0;34m\u001b[0m\u001b[0m\n\u001b[1;32m    714\u001b[0m                                in product(candidate_params,\n\u001b[0;32m--> 715\u001b[0;31m                                           cv.split(X, y, groups)))\n\u001b[0m\u001b[1;32m    716\u001b[0m \u001b[0;34m\u001b[0m\u001b[0m\n\u001b[1;32m    717\u001b[0m                 \u001b[0;32mif\u001b[0m \u001b[0mlen\u001b[0m\u001b[0;34m(\u001b[0m\u001b[0mout\u001b[0m\u001b[0;34m)\u001b[0m \u001b[0;34m<\u001b[0m \u001b[0;36m1\u001b[0m\u001b[0;34m:\u001b[0m\u001b[0;34m\u001b[0m\u001b[0;34m\u001b[0m\u001b[0m\n",
      "\u001b[0;32m/opt/conda/lib/python3.7/site-packages/joblib/parallel.py\u001b[0m in \u001b[0;36m__call__\u001b[0;34m(self, iterable)\u001b[0m\n\u001b[1;32m   1005\u001b[0m                 \u001b[0mself\u001b[0m\u001b[0;34m.\u001b[0m\u001b[0m_iterating\u001b[0m \u001b[0;34m=\u001b[0m \u001b[0mself\u001b[0m\u001b[0;34m.\u001b[0m\u001b[0m_original_iterator\u001b[0m \u001b[0;32mis\u001b[0m \u001b[0;32mnot\u001b[0m \u001b[0;32mNone\u001b[0m\u001b[0;34m\u001b[0m\u001b[0;34m\u001b[0m\u001b[0m\n\u001b[1;32m   1006\u001b[0m \u001b[0;34m\u001b[0m\u001b[0m\n\u001b[0;32m-> 1007\u001b[0;31m             \u001b[0;32mwhile\u001b[0m \u001b[0mself\u001b[0m\u001b[0;34m.\u001b[0m\u001b[0mdispatch_one_batch\u001b[0m\u001b[0;34m(\u001b[0m\u001b[0miterator\u001b[0m\u001b[0;34m)\u001b[0m\u001b[0;34m:\u001b[0m\u001b[0;34m\u001b[0m\u001b[0;34m\u001b[0m\u001b[0m\n\u001b[0m\u001b[1;32m   1008\u001b[0m                 \u001b[0;32mpass\u001b[0m\u001b[0;34m\u001b[0m\u001b[0;34m\u001b[0m\u001b[0m\n\u001b[1;32m   1009\u001b[0m \u001b[0;34m\u001b[0m\u001b[0m\n",
      "\u001b[0;32m/opt/conda/lib/python3.7/site-packages/joblib/parallel.py\u001b[0m in \u001b[0;36mdispatch_one_batch\u001b[0;34m(self, iterator)\u001b[0m\n\u001b[1;32m    833\u001b[0m                 \u001b[0;32mreturn\u001b[0m \u001b[0;32mFalse\u001b[0m\u001b[0;34m\u001b[0m\u001b[0;34m\u001b[0m\u001b[0m\n\u001b[1;32m    834\u001b[0m             \u001b[0;32melse\u001b[0m\u001b[0;34m:\u001b[0m\u001b[0;34m\u001b[0m\u001b[0;34m\u001b[0m\u001b[0m\n\u001b[0;32m--> 835\u001b[0;31m                 \u001b[0mself\u001b[0m\u001b[0;34m.\u001b[0m\u001b[0m_dispatch\u001b[0m\u001b[0;34m(\u001b[0m\u001b[0mtasks\u001b[0m\u001b[0;34m)\u001b[0m\u001b[0;34m\u001b[0m\u001b[0;34m\u001b[0m\u001b[0m\n\u001b[0m\u001b[1;32m    836\u001b[0m                 \u001b[0;32mreturn\u001b[0m \u001b[0;32mTrue\u001b[0m\u001b[0;34m\u001b[0m\u001b[0;34m\u001b[0m\u001b[0m\n\u001b[1;32m    837\u001b[0m \u001b[0;34m\u001b[0m\u001b[0m\n",
      "\u001b[0;32m/opt/conda/lib/python3.7/site-packages/joblib/parallel.py\u001b[0m in \u001b[0;36m_dispatch\u001b[0;34m(self, batch)\u001b[0m\n\u001b[1;32m    752\u001b[0m         \u001b[0;32mwith\u001b[0m \u001b[0mself\u001b[0m\u001b[0;34m.\u001b[0m\u001b[0m_lock\u001b[0m\u001b[0;34m:\u001b[0m\u001b[0;34m\u001b[0m\u001b[0;34m\u001b[0m\u001b[0m\n\u001b[1;32m    753\u001b[0m             \u001b[0mjob_idx\u001b[0m \u001b[0;34m=\u001b[0m \u001b[0mlen\u001b[0m\u001b[0;34m(\u001b[0m\u001b[0mself\u001b[0m\u001b[0;34m.\u001b[0m\u001b[0m_jobs\u001b[0m\u001b[0;34m)\u001b[0m\u001b[0;34m\u001b[0m\u001b[0;34m\u001b[0m\u001b[0m\n\u001b[0;32m--> 754\u001b[0;31m             \u001b[0mjob\u001b[0m \u001b[0;34m=\u001b[0m \u001b[0mself\u001b[0m\u001b[0;34m.\u001b[0m\u001b[0m_backend\u001b[0m\u001b[0;34m.\u001b[0m\u001b[0mapply_async\u001b[0m\u001b[0;34m(\u001b[0m\u001b[0mbatch\u001b[0m\u001b[0;34m,\u001b[0m \u001b[0mcallback\u001b[0m\u001b[0;34m=\u001b[0m\u001b[0mcb\u001b[0m\u001b[0;34m)\u001b[0m\u001b[0;34m\u001b[0m\u001b[0;34m\u001b[0m\u001b[0m\n\u001b[0m\u001b[1;32m    755\u001b[0m             \u001b[0;31m# A job can complete so quickly than its callback is\u001b[0m\u001b[0;34m\u001b[0m\u001b[0;34m\u001b[0m\u001b[0;34m\u001b[0m\u001b[0m\n\u001b[1;32m    756\u001b[0m             \u001b[0;31m# called before we get here, causing self._jobs to\u001b[0m\u001b[0;34m\u001b[0m\u001b[0;34m\u001b[0m\u001b[0;34m\u001b[0m\u001b[0m\n",
      "\u001b[0;32m/opt/conda/lib/python3.7/site-packages/joblib/_parallel_backends.py\u001b[0m in \u001b[0;36mapply_async\u001b[0;34m(self, func, callback)\u001b[0m\n\u001b[1;32m    207\u001b[0m     \u001b[0;32mdef\u001b[0m \u001b[0mapply_async\u001b[0m\u001b[0;34m(\u001b[0m\u001b[0mself\u001b[0m\u001b[0;34m,\u001b[0m \u001b[0mfunc\u001b[0m\u001b[0;34m,\u001b[0m \u001b[0mcallback\u001b[0m\u001b[0;34m=\u001b[0m\u001b[0;32mNone\u001b[0m\u001b[0;34m)\u001b[0m\u001b[0;34m:\u001b[0m\u001b[0;34m\u001b[0m\u001b[0;34m\u001b[0m\u001b[0m\n\u001b[1;32m    208\u001b[0m         \u001b[0;34m\"\"\"Schedule a func to be run\"\"\"\u001b[0m\u001b[0;34m\u001b[0m\u001b[0;34m\u001b[0m\u001b[0m\n\u001b[0;32m--> 209\u001b[0;31m         \u001b[0mresult\u001b[0m \u001b[0;34m=\u001b[0m \u001b[0mImmediateResult\u001b[0m\u001b[0;34m(\u001b[0m\u001b[0mfunc\u001b[0m\u001b[0;34m)\u001b[0m\u001b[0;34m\u001b[0m\u001b[0;34m\u001b[0m\u001b[0m\n\u001b[0m\u001b[1;32m    210\u001b[0m         \u001b[0;32mif\u001b[0m \u001b[0mcallback\u001b[0m\u001b[0;34m:\u001b[0m\u001b[0;34m\u001b[0m\u001b[0;34m\u001b[0m\u001b[0m\n\u001b[1;32m    211\u001b[0m             \u001b[0mcallback\u001b[0m\u001b[0;34m(\u001b[0m\u001b[0mresult\u001b[0m\u001b[0;34m)\u001b[0m\u001b[0;34m\u001b[0m\u001b[0;34m\u001b[0m\u001b[0m\n",
      "\u001b[0;32m/opt/conda/lib/python3.7/site-packages/joblib/_parallel_backends.py\u001b[0m in \u001b[0;36m__init__\u001b[0;34m(self, batch)\u001b[0m\n\u001b[1;32m    588\u001b[0m         \u001b[0;31m# Don't delay the application, to avoid keeping the input\u001b[0m\u001b[0;34m\u001b[0m\u001b[0;34m\u001b[0m\u001b[0;34m\u001b[0m\u001b[0m\n\u001b[1;32m    589\u001b[0m         \u001b[0;31m# arguments in memory\u001b[0m\u001b[0;34m\u001b[0m\u001b[0;34m\u001b[0m\u001b[0;34m\u001b[0m\u001b[0m\n\u001b[0;32m--> 590\u001b[0;31m         \u001b[0mself\u001b[0m\u001b[0;34m.\u001b[0m\u001b[0mresults\u001b[0m \u001b[0;34m=\u001b[0m \u001b[0mbatch\u001b[0m\u001b[0;34m(\u001b[0m\u001b[0;34m)\u001b[0m\u001b[0;34m\u001b[0m\u001b[0;34m\u001b[0m\u001b[0m\n\u001b[0m\u001b[1;32m    591\u001b[0m \u001b[0;34m\u001b[0m\u001b[0m\n\u001b[1;32m    592\u001b[0m     \u001b[0;32mdef\u001b[0m \u001b[0mget\u001b[0m\u001b[0;34m(\u001b[0m\u001b[0mself\u001b[0m\u001b[0;34m)\u001b[0m\u001b[0;34m:\u001b[0m\u001b[0;34m\u001b[0m\u001b[0;34m\u001b[0m\u001b[0m\n",
      "\u001b[0;32m/opt/conda/lib/python3.7/site-packages/joblib/parallel.py\u001b[0m in \u001b[0;36m__call__\u001b[0;34m(self)\u001b[0m\n\u001b[1;32m    254\u001b[0m         \u001b[0;32mwith\u001b[0m \u001b[0mparallel_backend\u001b[0m\u001b[0;34m(\u001b[0m\u001b[0mself\u001b[0m\u001b[0;34m.\u001b[0m\u001b[0m_backend\u001b[0m\u001b[0;34m,\u001b[0m \u001b[0mn_jobs\u001b[0m\u001b[0;34m=\u001b[0m\u001b[0mself\u001b[0m\u001b[0;34m.\u001b[0m\u001b[0m_n_jobs\u001b[0m\u001b[0;34m)\u001b[0m\u001b[0;34m:\u001b[0m\u001b[0;34m\u001b[0m\u001b[0;34m\u001b[0m\u001b[0m\n\u001b[1;32m    255\u001b[0m             return [func(*args, **kwargs)\n\u001b[0;32m--> 256\u001b[0;31m                     for func, args, kwargs in self.items]\n\u001b[0m\u001b[1;32m    257\u001b[0m \u001b[0;34m\u001b[0m\u001b[0m\n\u001b[1;32m    258\u001b[0m     \u001b[0;32mdef\u001b[0m \u001b[0m__len__\u001b[0m\u001b[0;34m(\u001b[0m\u001b[0mself\u001b[0m\u001b[0;34m)\u001b[0m\u001b[0;34m:\u001b[0m\u001b[0;34m\u001b[0m\u001b[0;34m\u001b[0m\u001b[0m\n",
      "\u001b[0;32m/opt/conda/lib/python3.7/site-packages/joblib/parallel.py\u001b[0m in \u001b[0;36m<listcomp>\u001b[0;34m(.0)\u001b[0m\n\u001b[1;32m    254\u001b[0m         \u001b[0;32mwith\u001b[0m \u001b[0mparallel_backend\u001b[0m\u001b[0;34m(\u001b[0m\u001b[0mself\u001b[0m\u001b[0;34m.\u001b[0m\u001b[0m_backend\u001b[0m\u001b[0;34m,\u001b[0m \u001b[0mn_jobs\u001b[0m\u001b[0;34m=\u001b[0m\u001b[0mself\u001b[0m\u001b[0;34m.\u001b[0m\u001b[0m_n_jobs\u001b[0m\u001b[0;34m)\u001b[0m\u001b[0;34m:\u001b[0m\u001b[0;34m\u001b[0m\u001b[0;34m\u001b[0m\u001b[0m\n\u001b[1;32m    255\u001b[0m             return [func(*args, **kwargs)\n\u001b[0;32m--> 256\u001b[0;31m                     for func, args, kwargs in self.items]\n\u001b[0m\u001b[1;32m    257\u001b[0m \u001b[0;34m\u001b[0m\u001b[0m\n\u001b[1;32m    258\u001b[0m     \u001b[0;32mdef\u001b[0m \u001b[0m__len__\u001b[0m\u001b[0;34m(\u001b[0m\u001b[0mself\u001b[0m\u001b[0;34m)\u001b[0m\u001b[0;34m:\u001b[0m\u001b[0;34m\u001b[0m\u001b[0;34m\u001b[0m\u001b[0m\n",
      "\u001b[0;32m/opt/conda/lib/python3.7/site-packages/sklearn/model_selection/_validation.py\u001b[0m in \u001b[0;36m_fit_and_score\u001b[0;34m(estimator, X, y, scorer, train, test, verbose, parameters, fit_params, return_train_score, return_parameters, return_n_test_samples, return_times, return_estimator, error_score)\u001b[0m\n\u001b[1;32m    558\u001b[0m     \u001b[0;32melse\u001b[0m\u001b[0;34m:\u001b[0m\u001b[0;34m\u001b[0m\u001b[0;34m\u001b[0m\u001b[0m\n\u001b[1;32m    559\u001b[0m         \u001b[0mfit_time\u001b[0m \u001b[0;34m=\u001b[0m \u001b[0mtime\u001b[0m\u001b[0;34m.\u001b[0m\u001b[0mtime\u001b[0m\u001b[0;34m(\u001b[0m\u001b[0;34m)\u001b[0m \u001b[0;34m-\u001b[0m \u001b[0mstart_time\u001b[0m\u001b[0;34m\u001b[0m\u001b[0;34m\u001b[0m\u001b[0m\n\u001b[0;32m--> 560\u001b[0;31m         \u001b[0mtest_scores\u001b[0m \u001b[0;34m=\u001b[0m \u001b[0m_score\u001b[0m\u001b[0;34m(\u001b[0m\u001b[0mestimator\u001b[0m\u001b[0;34m,\u001b[0m \u001b[0mX_test\u001b[0m\u001b[0;34m,\u001b[0m \u001b[0my_test\u001b[0m\u001b[0;34m,\u001b[0m \u001b[0mscorer\u001b[0m\u001b[0;34m)\u001b[0m\u001b[0;34m\u001b[0m\u001b[0;34m\u001b[0m\u001b[0m\n\u001b[0m\u001b[1;32m    561\u001b[0m         \u001b[0mscore_time\u001b[0m \u001b[0;34m=\u001b[0m \u001b[0mtime\u001b[0m\u001b[0;34m.\u001b[0m\u001b[0mtime\u001b[0m\u001b[0;34m(\u001b[0m\u001b[0;34m)\u001b[0m \u001b[0;34m-\u001b[0m \u001b[0mstart_time\u001b[0m \u001b[0;34m-\u001b[0m \u001b[0mfit_time\u001b[0m\u001b[0;34m\u001b[0m\u001b[0;34m\u001b[0m\u001b[0m\n\u001b[1;32m    562\u001b[0m         \u001b[0;32mif\u001b[0m \u001b[0mreturn_train_score\u001b[0m\u001b[0;34m:\u001b[0m\u001b[0;34m\u001b[0m\u001b[0;34m\u001b[0m\u001b[0m\n",
      "\u001b[0;32m/opt/conda/lib/python3.7/site-packages/sklearn/model_selection/_validation.py\u001b[0m in \u001b[0;36m_score\u001b[0;34m(estimator, X_test, y_test, scorer)\u001b[0m\n\u001b[1;32m    605\u001b[0m         \u001b[0mscores\u001b[0m \u001b[0;34m=\u001b[0m \u001b[0mscorer\u001b[0m\u001b[0;34m(\u001b[0m\u001b[0mestimator\u001b[0m\u001b[0;34m,\u001b[0m \u001b[0mX_test\u001b[0m\u001b[0;34m)\u001b[0m\u001b[0;34m\u001b[0m\u001b[0;34m\u001b[0m\u001b[0m\n\u001b[1;32m    606\u001b[0m     \u001b[0;32melse\u001b[0m\u001b[0;34m:\u001b[0m\u001b[0;34m\u001b[0m\u001b[0;34m\u001b[0m\u001b[0m\n\u001b[0;32m--> 607\u001b[0;31m         \u001b[0mscores\u001b[0m \u001b[0;34m=\u001b[0m \u001b[0mscorer\u001b[0m\u001b[0;34m(\u001b[0m\u001b[0mestimator\u001b[0m\u001b[0;34m,\u001b[0m \u001b[0mX_test\u001b[0m\u001b[0;34m,\u001b[0m \u001b[0my_test\u001b[0m\u001b[0;34m)\u001b[0m\u001b[0;34m\u001b[0m\u001b[0;34m\u001b[0m\u001b[0m\n\u001b[0m\u001b[1;32m    608\u001b[0m \u001b[0;34m\u001b[0m\u001b[0m\n\u001b[1;32m    609\u001b[0m     error_msg = (\"scoring must return a number, got %s (%s) \"\n",
      "\u001b[0;32m/opt/conda/lib/python3.7/site-packages/sklearn/metrics/_scorer.py\u001b[0m in \u001b[0;36m__call__\u001b[0;34m(self, estimator, *args, **kwargs)\u001b[0m\n\u001b[1;32m     86\u001b[0m             \u001b[0;32mif\u001b[0m \u001b[0misinstance\u001b[0m\u001b[0;34m(\u001b[0m\u001b[0mscorer\u001b[0m\u001b[0;34m,\u001b[0m \u001b[0m_BaseScorer\u001b[0m\u001b[0;34m)\u001b[0m\u001b[0;34m:\u001b[0m\u001b[0;34m\u001b[0m\u001b[0;34m\u001b[0m\u001b[0m\n\u001b[1;32m     87\u001b[0m                 score = scorer._score(cached_call, estimator,\n\u001b[0;32m---> 88\u001b[0;31m                                       *args, **kwargs)\n\u001b[0m\u001b[1;32m     89\u001b[0m             \u001b[0;32melse\u001b[0m\u001b[0;34m:\u001b[0m\u001b[0;34m\u001b[0m\u001b[0;34m\u001b[0m\u001b[0m\n\u001b[1;32m     90\u001b[0m                 \u001b[0mscore\u001b[0m \u001b[0;34m=\u001b[0m \u001b[0mscorer\u001b[0m\u001b[0;34m(\u001b[0m\u001b[0mestimator\u001b[0m\u001b[0;34m,\u001b[0m \u001b[0;34m*\u001b[0m\u001b[0margs\u001b[0m\u001b[0;34m,\u001b[0m \u001b[0;34m**\u001b[0m\u001b[0mkwargs\u001b[0m\u001b[0;34m)\u001b[0m\u001b[0;34m\u001b[0m\u001b[0;34m\u001b[0m\u001b[0m\n",
      "\u001b[0;32m/opt/conda/lib/python3.7/site-packages/sklearn/metrics/_scorer.py\u001b[0m in \u001b[0;36m_score\u001b[0;34m(self, method_caller, estimator, X, y_true, sample_weight)\u001b[0m\n\u001b[1;32m    211\u001b[0m         \u001b[0;32melse\u001b[0m\u001b[0;34m:\u001b[0m\u001b[0;34m\u001b[0m\u001b[0;34m\u001b[0m\u001b[0m\n\u001b[1;32m    212\u001b[0m             return self._sign * self._score_func(y_true, y_pred,\n\u001b[0;32m--> 213\u001b[0;31m                                                  **self._kwargs)\n\u001b[0m\u001b[1;32m    214\u001b[0m \u001b[0;34m\u001b[0m\u001b[0m\n\u001b[1;32m    215\u001b[0m \u001b[0;34m\u001b[0m\u001b[0m\n",
      "\u001b[0;32m/opt/conda/lib/python3.7/site-packages/sklearn/utils/validation.py\u001b[0m in \u001b[0;36minner_f\u001b[0;34m(*args, **kwargs)\u001b[0m\n\u001b[1;32m     70\u001b[0m                           FutureWarning)\n\u001b[1;32m     71\u001b[0m         \u001b[0mkwargs\u001b[0m\u001b[0;34m.\u001b[0m\u001b[0mupdate\u001b[0m\u001b[0;34m(\u001b[0m\u001b[0;34m{\u001b[0m\u001b[0mk\u001b[0m\u001b[0;34m:\u001b[0m \u001b[0marg\u001b[0m \u001b[0;32mfor\u001b[0m \u001b[0mk\u001b[0m\u001b[0;34m,\u001b[0m \u001b[0marg\u001b[0m \u001b[0;32min\u001b[0m \u001b[0mzip\u001b[0m\u001b[0;34m(\u001b[0m\u001b[0msig\u001b[0m\u001b[0;34m.\u001b[0m\u001b[0mparameters\u001b[0m\u001b[0;34m,\u001b[0m \u001b[0margs\u001b[0m\u001b[0;34m)\u001b[0m\u001b[0;34m}\u001b[0m\u001b[0;34m)\u001b[0m\u001b[0;34m\u001b[0m\u001b[0;34m\u001b[0m\u001b[0m\n\u001b[0;32m---> 72\u001b[0;31m         \u001b[0;32mreturn\u001b[0m \u001b[0mf\u001b[0m\u001b[0;34m(\u001b[0m\u001b[0;34m**\u001b[0m\u001b[0mkwargs\u001b[0m\u001b[0;34m)\u001b[0m\u001b[0;34m\u001b[0m\u001b[0;34m\u001b[0m\u001b[0m\n\u001b[0m\u001b[1;32m     73\u001b[0m     \u001b[0;32mreturn\u001b[0m \u001b[0minner_f\u001b[0m\u001b[0;34m\u001b[0m\u001b[0;34m\u001b[0m\u001b[0m\n\u001b[1;32m     74\u001b[0m \u001b[0;34m\u001b[0m\u001b[0m\n",
      "\u001b[0;32m/opt/conda/lib/python3.7/site-packages/sklearn/metrics/_regression.py\u001b[0m in \u001b[0;36mmean_squared_error\u001b[0;34m(y_true, y_pred, sample_weight, multioutput, squared)\u001b[0m\n\u001b[1;32m    254\u001b[0m     \"\"\"\n\u001b[1;32m    255\u001b[0m     y_type, y_true, y_pred, multioutput = _check_reg_targets(\n\u001b[0;32m--> 256\u001b[0;31m         y_true, y_pred, multioutput)\n\u001b[0m\u001b[1;32m    257\u001b[0m     \u001b[0mcheck_consistent_length\u001b[0m\u001b[0;34m(\u001b[0m\u001b[0my_true\u001b[0m\u001b[0;34m,\u001b[0m \u001b[0my_pred\u001b[0m\u001b[0;34m,\u001b[0m \u001b[0msample_weight\u001b[0m\u001b[0;34m)\u001b[0m\u001b[0;34m\u001b[0m\u001b[0;34m\u001b[0m\u001b[0m\n\u001b[1;32m    258\u001b[0m     output_errors = np.average((y_true - y_pred) ** 2, axis=0,\n",
      "\u001b[0;32m/opt/conda/lib/python3.7/site-packages/sklearn/metrics/_regression.py\u001b[0m in \u001b[0;36m_check_reg_targets\u001b[0;34m(y_true, y_pred, multioutput, dtype)\u001b[0m\n\u001b[1;32m     84\u001b[0m     \u001b[0mcheck_consistent_length\u001b[0m\u001b[0;34m(\u001b[0m\u001b[0my_true\u001b[0m\u001b[0;34m,\u001b[0m \u001b[0my_pred\u001b[0m\u001b[0;34m)\u001b[0m\u001b[0;34m\u001b[0m\u001b[0;34m\u001b[0m\u001b[0m\n\u001b[1;32m     85\u001b[0m     \u001b[0my_true\u001b[0m \u001b[0;34m=\u001b[0m \u001b[0mcheck_array\u001b[0m\u001b[0;34m(\u001b[0m\u001b[0my_true\u001b[0m\u001b[0;34m,\u001b[0m \u001b[0mensure_2d\u001b[0m\u001b[0;34m=\u001b[0m\u001b[0;32mFalse\u001b[0m\u001b[0;34m,\u001b[0m \u001b[0mdtype\u001b[0m\u001b[0;34m=\u001b[0m\u001b[0mdtype\u001b[0m\u001b[0;34m)\u001b[0m\u001b[0;34m\u001b[0m\u001b[0;34m\u001b[0m\u001b[0m\n\u001b[0;32m---> 86\u001b[0;31m     \u001b[0my_pred\u001b[0m \u001b[0;34m=\u001b[0m \u001b[0mcheck_array\u001b[0m\u001b[0;34m(\u001b[0m\u001b[0my_pred\u001b[0m\u001b[0;34m,\u001b[0m \u001b[0mensure_2d\u001b[0m\u001b[0;34m=\u001b[0m\u001b[0;32mFalse\u001b[0m\u001b[0;34m,\u001b[0m \u001b[0mdtype\u001b[0m\u001b[0;34m=\u001b[0m\u001b[0mdtype\u001b[0m\u001b[0;34m)\u001b[0m\u001b[0;34m\u001b[0m\u001b[0;34m\u001b[0m\u001b[0m\n\u001b[0m\u001b[1;32m     87\u001b[0m \u001b[0;34m\u001b[0m\u001b[0m\n\u001b[1;32m     88\u001b[0m     \u001b[0;32mif\u001b[0m \u001b[0my_true\u001b[0m\u001b[0;34m.\u001b[0m\u001b[0mndim\u001b[0m \u001b[0;34m==\u001b[0m \u001b[0;36m1\u001b[0m\u001b[0;34m:\u001b[0m\u001b[0;34m\u001b[0m\u001b[0;34m\u001b[0m\u001b[0m\n",
      "\u001b[0;32m/opt/conda/lib/python3.7/site-packages/sklearn/utils/validation.py\u001b[0m in \u001b[0;36minner_f\u001b[0;34m(*args, **kwargs)\u001b[0m\n\u001b[1;32m     70\u001b[0m                           FutureWarning)\n\u001b[1;32m     71\u001b[0m         \u001b[0mkwargs\u001b[0m\u001b[0;34m.\u001b[0m\u001b[0mupdate\u001b[0m\u001b[0;34m(\u001b[0m\u001b[0;34m{\u001b[0m\u001b[0mk\u001b[0m\u001b[0;34m:\u001b[0m \u001b[0marg\u001b[0m \u001b[0;32mfor\u001b[0m \u001b[0mk\u001b[0m\u001b[0;34m,\u001b[0m \u001b[0marg\u001b[0m \u001b[0;32min\u001b[0m \u001b[0mzip\u001b[0m\u001b[0;34m(\u001b[0m\u001b[0msig\u001b[0m\u001b[0;34m.\u001b[0m\u001b[0mparameters\u001b[0m\u001b[0;34m,\u001b[0m \u001b[0margs\u001b[0m\u001b[0;34m)\u001b[0m\u001b[0;34m}\u001b[0m\u001b[0;34m)\u001b[0m\u001b[0;34m\u001b[0m\u001b[0;34m\u001b[0m\u001b[0m\n\u001b[0;32m---> 72\u001b[0;31m         \u001b[0;32mreturn\u001b[0m \u001b[0mf\u001b[0m\u001b[0;34m(\u001b[0m\u001b[0;34m**\u001b[0m\u001b[0mkwargs\u001b[0m\u001b[0;34m)\u001b[0m\u001b[0;34m\u001b[0m\u001b[0;34m\u001b[0m\u001b[0m\n\u001b[0m\u001b[1;32m     73\u001b[0m     \u001b[0;32mreturn\u001b[0m \u001b[0minner_f\u001b[0m\u001b[0;34m\u001b[0m\u001b[0;34m\u001b[0m\u001b[0m\n\u001b[1;32m     74\u001b[0m \u001b[0;34m\u001b[0m\u001b[0m\n",
      "\u001b[0;32m/opt/conda/lib/python3.7/site-packages/sklearn/utils/validation.py\u001b[0m in \u001b[0;36mcheck_array\u001b[0;34m(array, accept_sparse, accept_large_sparse, dtype, order, copy, force_all_finite, ensure_2d, allow_nd, ensure_min_samples, ensure_min_features, estimator)\u001b[0m\n\u001b[1;32m    643\u001b[0m         \u001b[0;32mif\u001b[0m \u001b[0mforce_all_finite\u001b[0m\u001b[0;34m:\u001b[0m\u001b[0;34m\u001b[0m\u001b[0;34m\u001b[0m\u001b[0m\n\u001b[1;32m    644\u001b[0m             _assert_all_finite(array,\n\u001b[0;32m--> 645\u001b[0;31m                                allow_nan=force_all_finite == 'allow-nan')\n\u001b[0m\u001b[1;32m    646\u001b[0m \u001b[0;34m\u001b[0m\u001b[0m\n\u001b[1;32m    647\u001b[0m     \u001b[0;32mif\u001b[0m \u001b[0mensure_min_samples\u001b[0m \u001b[0;34m>\u001b[0m \u001b[0;36m0\u001b[0m\u001b[0;34m:\u001b[0m\u001b[0;34m\u001b[0m\u001b[0;34m\u001b[0m\u001b[0m\n",
      "\u001b[0;32m/opt/conda/lib/python3.7/site-packages/sklearn/utils/validation.py\u001b[0m in \u001b[0;36m_assert_all_finite\u001b[0;34m(X, allow_nan, msg_dtype)\u001b[0m\n\u001b[1;32m     97\u001b[0m                     \u001b[0mmsg_err\u001b[0m\u001b[0;34m.\u001b[0m\u001b[0mformat\u001b[0m\u001b[0;34m\u001b[0m\u001b[0;34m\u001b[0m\u001b[0m\n\u001b[1;32m     98\u001b[0m                     (type_err,\n\u001b[0;32m---> 99\u001b[0;31m                      msg_dtype if msg_dtype is not None else X.dtype)\n\u001b[0m\u001b[1;32m    100\u001b[0m             )\n\u001b[1;32m    101\u001b[0m     \u001b[0;31m# for object dtype data, we only check for NaNs (GH-13254)\u001b[0m\u001b[0;34m\u001b[0m\u001b[0;34m\u001b[0m\u001b[0;34m\u001b[0m\u001b[0m\n",
      "\u001b[0;31mValueError\u001b[0m: Input contains NaN, infinity or a value too large for dtype('float32')."
     ]
    }
   ],
   "source": [
    "param_grid = { 'learning_rate': [0.01, 0.05, 0.1, 0.5, 1, 2, 5, 10], 'n_estimators': list(range(10, 100, 5)) }\n",
    "estimator = xgb.XGBRegressor(max_depth=5, random_state = 1, min_child_weight=3)\n",
    "optimizerXGB = GridSearchCV(estimator, param_grid, scoring='neg_root_mean_squared_error', cv=3)                    \n",
    "optimizerXGB.fit(X_train, y_train)\n",
    "\n",
    "print('score_train_opt', optimizerXGB.best_score_)\n",
    "print('param_opt', optimizerXGB.best_params_)\n"
   ]
  },
  {
   "cell_type": "code",
   "execution_count": 23,
   "metadata": {
    "execution": {
     "iopub.execute_input": "2020-12-15T11:56:49.999289Z",
     "iopub.status.busy": "2020-12-15T11:56:49.998583Z",
     "iopub.status.idle": "2020-12-15T11:56:50.020782Z",
     "shell.execute_reply": "2020-12-15T11:56:50.019948Z"
    },
    "papermill": {
     "duration": 0.070231,
     "end_time": "2020-12-15T11:56:50.020949",
     "exception": false,
     "start_time": "2020-12-15T11:56:49.950718",
     "status": "completed"
    },
    "tags": []
   },
   "outputs": [
    {
     "name": "stdout",
     "output_type": "stream",
     "text": [
      "[108723.74584211 172089.01501572 186009.46443315 ... 181499.94354285\n",
      " 105499.36978032 217660.41723801]\n",
      "          SalePrice\n",
      "Id                 \n",
      "1461  108723.745842\n",
      "1462  172089.015016\n",
      "1463  186009.464433\n",
      "1464  196598.730060\n",
      "1465  190646.649612\n",
      "...             ...\n",
      "2915   80309.400645\n",
      "2916   74036.737565\n",
      "2917  181499.943543\n",
      "2918  105499.369780\n",
      "2919  217660.417238\n",
      "\n",
      "[1459 rows x 1 columns]\n"
     ]
    }
   ],
   "source": [
    "#Y=optimizerR.predict(X_test)\n",
    "print(Y)\n",
    "y = pd.read_csv('../input/house-prices-advanced-regression-techniques/sample_submission.csv', index_col='Id')\n",
    "#print(y.info)\n",
    "del y['SalePrice']\n",
    "y['SalePrice']=Y\n",
    "print(y)"
   ]
  },
  {
   "cell_type": "code",
   "execution_count": 24,
   "metadata": {
    "execution": {
     "iopub.execute_input": "2020-12-15T11:56:50.099002Z",
     "iopub.status.busy": "2020-12-15T11:56:50.097985Z",
     "iopub.status.idle": "2020-12-15T11:56:50.395688Z",
     "shell.execute_reply": "2020-12-15T11:56:50.394953Z"
    },
    "papermill": {
     "duration": 0.337208,
     "end_time": "2020-12-15T11:56:50.395808",
     "exception": false,
     "start_time": "2020-12-15T11:56:50.058600",
     "status": "completed"
    },
    "tags": []
   },
   "outputs": [],
   "source": [
    "y.to_csv(\"./HousePrice_answer.csv\")"
   ]
  },
  {
   "cell_type": "code",
   "execution_count": null,
   "metadata": {
    "papermill": {
     "duration": 0.036987,
     "end_time": "2020-12-15T11:56:50.470106",
     "exception": false,
     "start_time": "2020-12-15T11:56:50.433119",
     "status": "completed"
    },
    "tags": []
   },
   "outputs": [],
   "source": []
  }
 ],
 "metadata": {
  "kernelspec": {
   "display_name": "Python 3",
   "language": "python",
   "name": "python3"
  },
  "language_info": {
   "codemirror_mode": {
    "name": "ipython",
    "version": 3
   },
   "file_extension": ".py",
   "mimetype": "text/x-python",
   "name": "python",
   "nbconvert_exporter": "python",
   "pygments_lexer": "ipython3",
   "version": "3.7.6"
  },
  "papermill": {
   "duration": 257.52865,
   "end_time": "2020-12-15T11:56:50.616684",
   "environment_variables": {},
   "exception": null,
   "input_path": "__notebook__.ipynb",
   "output_path": "__notebook__.ipynb",
   "parameters": {},
   "start_time": "2020-12-15T11:52:33.088034",
   "version": "2.1.0"
  }
 },
 "nbformat": 4,
 "nbformat_minor": 4
}
